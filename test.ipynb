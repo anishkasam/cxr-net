{
 "cells": [
  {
   "cell_type": "code",
   "execution_count": 2,
   "source": [
    "import tensorflow as tf\r\n",
    "\r\n",
    "imported = tf.saved_model.load('../saved_model.pb')\r\n",
    "f = imported.signatures[\"serving_default\"]\r\n",
    "print(f(x=tf.constant([[1.]])))"
   ],
   "outputs": [],
   "metadata": {}
  }
 ],
 "metadata": {
  "orig_nbformat": 4,
  "language_info": {
   "name": "python"
  }
 },
 "nbformat": 4,
 "nbformat_minor": 2
}