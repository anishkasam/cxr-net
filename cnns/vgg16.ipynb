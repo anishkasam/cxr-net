{
  "nbformat": 4,
  "nbformat_minor": 2,
  "metadata": {
    "orig_nbformat": 4,
    "colab": {
      "name": "vgg16.ipynb",
      "provenance": [],
      "collapsed_sections": []
    },
    "language_info": {
      "name": "python"
    },
    "kernelspec": {
      "name": "python3",
      "display_name": "Python 3"
    },
    "accelerator": "GPU"
  },
  "cells": [
    {
      "cell_type": "code",
      "execution_count": null,
      "source": [
        "import numpy as np \r\n",
        "import pandas as pd \r\n",
        "from PIL import Image \r\n",
        "import pathlib\r\n",
        "import matplotlib.pyplot as plt\r\n",
        "import tensorflow as tf\r\n",
        "import tensorflow_addons as tfa\r\n",
        "from tensorflow.keras.applications import ResNet50"
      ],
      "outputs": [],
      "metadata": {
        "id": "XnCQEQABAKjH"
      }
    },
    {
      "cell_type": "code",
      "execution_count": null,
      "source": [
        "IMG_WIDTH = 224\r\n",
        "IMG_HEIGHT = 224\r\n",
        "IMG_DIM = (IMG_WIDTH, IMG_HEIGHT)\r\n",
        "BATCH_SIZE = 8\r\n",
        "\r\n",
        "TRAIN_POSITIVE_SIZE = 460\r\n",
        "TRAIN_NEGATIVE_SIZE = 4684\r\n",
        "VALIDATION_POSITIVE_SIZE = 58\r\n",
        "VALIDATION_NEGATIVE_SIZE = 562\r\n",
        "TEST_POSITIVE_SIZE = 58\r\n",
        "TEST_NEGATIVE_SIZE = 610\r\n",
        "\r\n",
        "IMG_DIR = '/content/drive/MyDrive/summer 2021/sra/research/data/'\r\n",
        "TRAIN_DIR = '/content/drive/MyDrive/summer 2021/sra/research/data/train'\r\n",
        "VAL_DIR = '/content/drive/MyDrive/summer 2021/sra/research/data/validation'\r\n",
        "TEST_DIR = '/content/drive/MyDrive/summer 2021/sra/research/data/test'"
      ],
      "outputs": [],
      "metadata": {
        "id": "8lpKfGfsAKjJ"
      }
    },
    {
      "cell_type": "code",
      "execution_count": null,
      "source": [
        "from tensorflow.keras.applications.vgg16 import preprocess_input\r\n",
        "from tensorflow.keras.preprocessing.image import ImageDataGenerator\r\n",
        "\r\n",
        "data_generator_with_aug = ImageDataGenerator(preprocessing_function=preprocess_input,\r\n",
        "                                              horizontal_flip = True,\r\n",
        "                                              width_shift_range = 0.2,\r\n",
        "                                              height_shift_range = 0.2\r\n",
        "                                                )\r\n",
        "            \r\n",
        "data_generator_no_aug = ImageDataGenerator(preprocessing_function=preprocess_input)"
      ],
      "outputs": [],
      "metadata": {
        "id": "VDEn-TD5AKjK"
      }
    },
    {
      "cell_type": "code",
      "execution_count": null,
      "source": [
        "train_generator = data_generator_with_aug.flow_from_directory(\n",
        "                                        directory=TRAIN_DIR,\n",
        "                                        target_size=IMG_DIM,\n",
        "                                        batch_size=BATCH_SIZE,\n",
        "                                        class_mode='categorical'\n",
        "                                        )\n",
        "\n",
        "validation_generator = data_generator_no_aug.flow_from_directory(\n",
        "                                        directory=VAL_DIR,\n",
        "                                        target_size=IMG_DIM,batch_size=BATCH_SIZE,\n",
        "                                        class_mode='categorical')\n",
        "\n",
        "test_generator = data_generator_no_aug.flow_from_directory(\n",
        "                                        directory=TEST_DIR,\n",
        "                                        target_size=IMG_DIM,batch_size=BATCH_SIZE,\n",
        "                                        class_mode='categorical',\n",
        "                                        )\n",
        "\n",
        "print(train_generator.class_indices)\n",
        "print(validation_generator.class_indices)\n",
        "print(test_generator.class_indices)"
      ],
      "outputs": [
        {
          "output_type": "stream",
          "name": "stdout",
          "text": [
            "Found 5144 images belonging to 3 classes.\n",
            "Found 620 images belonging to 3 classes.\n",
            "Found 668 images belonging to 3 classes.\n",
            "{'COVID19': 0, 'NORMAL': 1, 'PNEUMONIA': 2}\n",
            "{'COVID19': 0, 'NORMAL': 1, 'PNEUMONIA': 2}\n",
            "{'COVID19': 0, 'NORMAL': 1, 'PNEUMONIA': 2}\n"
          ]
        }
      ],
      "metadata": {
        "colab": {
          "base_uri": "https://localhost:8080/"
        },
        "id": "lLW16DdcAKjK",
        "outputId": "d4a2e891-de33-4159-b538-c1ea793c177b"
      }
    },
    {
      "cell_type": "code",
      "execution_count": null,
      "source": [
        "from tensorflow.keras.applications.vgg16 import VGG16\r\n",
        "from tensorflow.keras.models import Model\r\n",
        "import tensorflow.keras as keras\r\n",
        "\r\n",
        "vgg16 = VGG16(include_top=False, weights='imagenet', input_shape=(IMG_HEIGHT,IMG_WIDTH,3),pooling='max')\r\n",
        "\r\n",
        "output = vgg16.layers[-1].output\r\n",
        "output = tf.keras.layers.Flatten()(output)\r\n",
        "vgg16 = Model(vgg16.input, output)\r\n",
        "\r\n",
        "res_name = []\r\n",
        "for layer in vgg16.layers:\r\n",
        "    res_name.append(layer.name)"
      ],
      "outputs": [
        {
          "output_type": "stream",
          "name": "stdout",
          "text": [
            "Downloading data from https://storage.googleapis.com/tensorflow/keras-applications/vgg16/vgg16_weights_tf_dim_ordering_tf_kernels_notop.h5\n",
            "58892288/58889256 [==============================] - 0s 0us/step\n"
          ]
        }
      ],
      "metadata": {
        "id": "lv7xdTifAKjM",
        "colab": {
          "base_uri": "https://localhost:8080/"
        },
        "outputId": "92d272a2-b41f-4c83-df18-e916a91a0481"
      }
    },
    {
      "cell_type": "code",
      "execution_count": null,
      "source": [
        "res_name[-21:]"
      ],
      "outputs": [
        {
          "output_type": "execute_result",
          "data": {
            "text/plain": [
              "['input_1',\n",
              " 'block1_conv1',\n",
              " 'block1_conv2',\n",
              " 'block1_pool',\n",
              " 'block2_conv1',\n",
              " 'block2_conv2',\n",
              " 'block2_pool',\n",
              " 'block3_conv1',\n",
              " 'block3_conv2',\n",
              " 'block3_conv3',\n",
              " 'block3_pool',\n",
              " 'block4_conv1',\n",
              " 'block4_conv2',\n",
              " 'block4_conv3',\n",
              " 'block4_pool',\n",
              " 'block5_conv1',\n",
              " 'block5_conv2',\n",
              " 'block5_conv3',\n",
              " 'block5_pool',\n",
              " 'global_max_pooling2d',\n",
              " 'flatten']"
            ]
          },
          "metadata": {
            "tags": []
          },
          "execution_count": 8
        }
      ],
      "metadata": {
        "colab": {
          "base_uri": "https://localhost:8080/"
        },
        "id": "3qOiYNu7AKjM",
        "outputId": "eac1a3f0-1cf9-4976-d821-40eb601506ae"
      }
    },
    {
      "cell_type": "code",
      "execution_count": null,
      "source": [
        "set_trainable = False\n",
        "for layer in vgg16.layers:\n",
        "    if layer.name in res_name[-21:]:\n",
        "        set_trainable = True\n",
        "    if set_trainable:\n",
        "        layer.trainable = True\n",
        "    else:\n",
        "        layer.trainable = False"
      ],
      "outputs": [],
      "metadata": {
        "id": "Y7Uu7OsSAKjM"
      }
    },
    {
      "cell_type": "code",
      "execution_count": null,
      "source": [
        "vgg16.summary()"
      ],
      "outputs": [
        {
          "output_type": "stream",
          "name": "stdout",
          "text": [
            "Model: \"model\"\n",
            "_________________________________________________________________\n",
            "Layer (type)                 Output Shape              Param #   \n",
            "=================================================================\n",
            "input_1 (InputLayer)         [(None, 224, 224, 3)]     0         \n",
            "_________________________________________________________________\n",
            "block1_conv1 (Conv2D)        (None, 224, 224, 64)      1792      \n",
            "_________________________________________________________________\n",
            "block1_conv2 (Conv2D)        (None, 224, 224, 64)      36928     \n",
            "_________________________________________________________________\n",
            "block1_pool (MaxPooling2D)   (None, 112, 112, 64)      0         \n",
            "_________________________________________________________________\n",
            "block2_conv1 (Conv2D)        (None, 112, 112, 128)     73856     \n",
            "_________________________________________________________________\n",
            "block2_conv2 (Conv2D)        (None, 112, 112, 128)     147584    \n",
            "_________________________________________________________________\n",
            "block2_pool (MaxPooling2D)   (None, 56, 56, 128)       0         \n",
            "_________________________________________________________________\n",
            "block3_conv1 (Conv2D)        (None, 56, 56, 256)       295168    \n",
            "_________________________________________________________________\n",
            "block3_conv2 (Conv2D)        (None, 56, 56, 256)       590080    \n",
            "_________________________________________________________________\n",
            "block3_conv3 (Conv2D)        (None, 56, 56, 256)       590080    \n",
            "_________________________________________________________________\n",
            "block3_pool (MaxPooling2D)   (None, 28, 28, 256)       0         \n",
            "_________________________________________________________________\n",
            "block4_conv1 (Conv2D)        (None, 28, 28, 512)       1180160   \n",
            "_________________________________________________________________\n",
            "block4_conv2 (Conv2D)        (None, 28, 28, 512)       2359808   \n",
            "_________________________________________________________________\n",
            "block4_conv3 (Conv2D)        (None, 28, 28, 512)       2359808   \n",
            "_________________________________________________________________\n",
            "block4_pool (MaxPooling2D)   (None, 14, 14, 512)       0         \n",
            "_________________________________________________________________\n",
            "block5_conv1 (Conv2D)        (None, 14, 14, 512)       2359808   \n",
            "_________________________________________________________________\n",
            "block5_conv2 (Conv2D)        (None, 14, 14, 512)       2359808   \n",
            "_________________________________________________________________\n",
            "block5_conv3 (Conv2D)        (None, 14, 14, 512)       2359808   \n",
            "_________________________________________________________________\n",
            "block5_pool (MaxPooling2D)   (None, 7, 7, 512)         0         \n",
            "_________________________________________________________________\n",
            "global_max_pooling2d (Global (None, 512)               0         \n",
            "_________________________________________________________________\n",
            "flatten (Flatten)            (None, 512)               0         \n",
            "=================================================================\n",
            "Total params: 14,714,688\n",
            "Trainable params: 14,714,688\n",
            "Non-trainable params: 0\n",
            "_________________________________________________________________\n"
          ]
        }
      ],
      "metadata": {
        "colab": {
          "base_uri": "https://localhost:8080/"
        },
        "id": "FBiOpQsNAKjN",
        "outputId": "cec5f953-95ae-4987-b298-90becab1d5fe"
      }
    },
    {
      "cell_type": "code",
      "execution_count": null,
      "source": [
        "from tensorflow.keras.applications import VGG16\r\n",
        "from tensorflow.keras.models import Sequential\r\n",
        "from tensorflow.keras.layers import Dense, Flatten, GlobalAveragePooling2D, Dropout\r\n",
        "\r\n",
        "num_classes = 3\r\n",
        "\r\n",
        "model = Sequential()\r\n",
        "model.add(vgg16)\r\n",
        "model.add(Dense(1024, activation='relu'))\r\n",
        "model.add(Dropout(0.5))\r\n",
        "model.add(Dense(1024, activation='relu'))\r\n",
        "model.add(Dropout(0.5))\r\n",
        "model.add(Dense(num_classes, activation='softmax'))\r\n",
        "\r\n",
        "model.summary()"
      ],
      "outputs": [
        {
          "output_type": "stream",
          "name": "stdout",
          "text": [
            "Model: \"sequential\"\n",
            "_________________________________________________________________\n",
            "Layer (type)                 Output Shape              Param #   \n",
            "=================================================================\n",
            "model (Functional)           (None, 512)               14714688  \n",
            "_________________________________________________________________\n",
            "dense (Dense)                (None, 1024)              525312    \n",
            "_________________________________________________________________\n",
            "dropout (Dropout)            (None, 1024)              0         \n",
            "_________________________________________________________________\n",
            "dense_1 (Dense)              (None, 1024)              1049600   \n",
            "_________________________________________________________________\n",
            "dropout_1 (Dropout)          (None, 1024)              0         \n",
            "_________________________________________________________________\n",
            "dense_2 (Dense)              (None, 3)                 3075      \n",
            "=================================================================\n",
            "Total params: 16,292,675\n",
            "Trainable params: 16,292,675\n",
            "Non-trainable params: 0\n",
            "_________________________________________________________________\n"
          ]
        }
      ],
      "metadata": {
        "colab": {
          "base_uri": "https://localhost:8080/"
        },
        "id": "JpJYdZyRAKjN",
        "outputId": "2ef932af-96a1-484b-cac5-b0fceac2ef9f"
      }
    },
    {
      "cell_type": "code",
      "execution_count": null,
      "source": [
        "adam = tf.keras.optimizers.Adam(learning_rate=0.0001)\r\n",
        "\r\n",
        "early_stop = tf.keras.callbacks.EarlyStopping(monitor='val_loss', patience=8,\r\n",
        "                                              restore_best_weights=False\r\n",
        "                                              )\r\n",
        "\r\n",
        "reduce_lr = tf.keras.callbacks.ReduceLROnPlateau(monitor='val_loss',\r\n",
        "                                   factor=0.2,\r\n",
        "                                   patience=4,\r\n",
        "                                   verbose=1,\r\n",
        "                                   min_delta=5*1e-3,min_lr = 5*1e-7,\r\n",
        "                                   )"
      ],
      "outputs": [],
      "metadata": {
        "id": "szKBml9AAKjO"
      }
    },
    {
      "cell_type": "code",
      "execution_count": null,
      "source": [
        "model.compile(optimizer = adam, loss = 'categorical_crossentropy', metrics=['accuracy',tfa.metrics.F1Score(num_classes=num_classes)])"
      ],
      "outputs": [],
      "metadata": {
        "id": "ioodM-M9AKjO"
      }
    },
    {
      "cell_type": "code",
      "execution_count": null,
      "source": [
        "model.fit(\r\n",
        "          train_generator,     \r\n",
        "          epochs = 12,\r\n",
        "          callbacks=[early_stop,reduce_lr],\r\n",
        "          validation_data = validation_generator\r\n",
        "          )"
      ],
      "outputs": [
        {
          "output_type": "stream",
          "name": "stdout",
          "text": [
            "Epoch 1/12\n",
            "643/643 [==============================] - ETA: 0s - loss: 0.8086 - accuracy: 0.6835 - f1_score: 0.4365"
          ]
        },
        {
          "output_type": "stream",
          "name": "stderr",
          "text": [
            "/usr/local/lib/python3.7/dist-packages/tensorflow/python/keras/metrics.py:257: UserWarning: Metric F1Score implements a `reset_states()` method; rename it to `reset_state()` (without the final \"s\"). The name `reset_states()` has been deprecated to improve API consistency.\n",
            "  'consistency.' % (self.__class__.__name__,))\n"
          ]
        },
        {
          "output_type": "stream",
          "name": "stdout",
          "text": [
            "\b\b\b\b\b\b\b\b\b\b\b\b\b\b\b\b\b\b\b\b\b\b\b\b\b\b\b\b\b\b\b\b\b\b\b\b\b\b\b\b\b\b\b\b\b\b\b\b\b\b\b\b\b\b\b\b\b\b\b\b\b\b\b\b\b\b\b\b\b\b\b\b\b\b\b\b\b\b\b\b\b\b\b\b\b\b\b\b\b\b\b\b\b\b\b\b\b\b\b\b\b\b\b\r643/643 [==============================] - 1945s 3s/step - loss: 0.8086 - accuracy: 0.6835 - f1_score: 0.4365 - val_loss: 0.6633 - val_accuracy: 0.6613 - val_f1_score: 0.3257\n",
            "Epoch 2/12\n",
            "643/643 [==============================] - 219s 340ms/step - loss: 0.5346 - accuracy: 0.7694 - f1_score: 0.6548 - val_loss: 0.3851 - val_accuracy: 0.8887 - val_f1_score: 0.8466\n",
            "Epoch 3/12\n",
            "643/643 [==============================] - 213s 332ms/step - loss: 0.4672 - accuracy: 0.8175 - f1_score: 0.7292 - val_loss: 0.5321 - val_accuracy: 0.8210 - val_f1_score: 0.7728\n",
            "Epoch 4/12\n",
            "643/643 [==============================] - 213s 331ms/step - loss: 0.3575 - accuracy: 0.8791 - f1_score: 0.8279 - val_loss: 0.4592 - val_accuracy: 0.8661 - val_f1_score: 0.8540\n",
            "Epoch 5/12\n",
            "643/643 [==============================] - 213s 330ms/step - loss: 0.3084 - accuracy: 0.8948 - f1_score: 0.8608 - val_loss: 0.2437 - val_accuracy: 0.9290 - val_f1_score: 0.9158\n",
            "Epoch 6/12\n",
            "643/643 [==============================] - 213s 332ms/step - loss: 0.2593 - accuracy: 0.9139 - f1_score: 0.8826 - val_loss: 0.3701 - val_accuracy: 0.8839 - val_f1_score: 0.8938\n",
            "Epoch 7/12\n",
            "643/643 [==============================] - 211s 328ms/step - loss: 0.2407 - accuracy: 0.9184 - f1_score: 0.8874 - val_loss: 0.1783 - val_accuracy: 0.9306 - val_f1_score: 0.9111\n",
            "Epoch 8/12\n",
            "643/643 [==============================] - 210s 327ms/step - loss: 0.2303 - accuracy: 0.9234 - f1_score: 0.8996 - val_loss: 0.4699 - val_accuracy: 0.8339 - val_f1_score: 0.6128\n",
            "Epoch 9/12\n",
            "643/643 [==============================] - 209s 326ms/step - loss: 0.2003 - accuracy: 0.9310 - f1_score: 0.9101 - val_loss: 0.2807 - val_accuracy: 0.9210 - val_f1_score: 0.9187\n",
            "Epoch 10/12\n",
            "643/643 [==============================] - 211s 328ms/step - loss: 0.1840 - accuracy: 0.9362 - f1_score: 0.9174 - val_loss: 0.2082 - val_accuracy: 0.9274 - val_f1_score: 0.9102\n",
            "Epoch 11/12\n",
            "643/643 [==============================] - 209s 324ms/step - loss: 0.2045 - accuracy: 0.9298 - f1_score: 0.9062 - val_loss: 0.1015 - val_accuracy: 0.9661 - val_f1_score: 0.9672\n",
            "Epoch 12/12\n",
            "643/643 [==============================] - 211s 328ms/step - loss: 0.1716 - accuracy: 0.9427 - f1_score: 0.9267 - val_loss: 0.1627 - val_accuracy: 0.9419 - val_f1_score: 0.9322\n"
          ]
        },
        {
          "output_type": "execute_result",
          "data": {
            "text/plain": [
              "<tensorflow.python.keras.callbacks.History at 0x7fb3eaba14d0>"
            ]
          },
          "metadata": {
            "tags": []
          },
          "execution_count": 14
        }
      ],
      "metadata": {
        "colab": {
          "base_uri": "https://localhost:8080/"
        },
        "id": "bCIUnN0yAKjP",
        "outputId": "a56c2549-414a-4932-928b-752ac7118975"
      }
    },
    {
      "cell_type": "code",
      "execution_count": null,
      "source": [
        "def get_diagnostic_plot(model,name):\r\n",
        "    training_loss = model.history.history[name]\r\n",
        "    test_loss = model.history.history[f'val_{name}']\r\n",
        "\r\n",
        "    epoch_count = range(1, len(training_loss) + 1)\r\n",
        "\r\n",
        "    plt.plot(epoch_count, training_loss, 'r--')\r\n",
        "    plt.plot(epoch_count, test_loss, 'b-')\r\n",
        "    plt.legend([f'Training {name}', f'Val {name}'])\r\n",
        "    plt.xlabel('Epoch')\r\n",
        "    plt.ylabel(name)"
      ],
      "outputs": [],
      "metadata": {
        "id": "dClt_s-xAKjP"
      }
    },
    {
      "cell_type": "code",
      "execution_count": null,
      "source": [
        "get_diagnostic_plot(model,'loss')"
      ],
      "outputs": [
        {
          "output_type": "display_data",
          "data": {
            "text/plain": [
              "<Figure size 432x288 with 1 Axes>"
            ],
            "image/png": "[encoded data removed]"
          },
          "metadata": {
            "tags": [],
            "needs_background": "light"
          }
        }
      ],
      "metadata": {
        "id": "PaodrenlAKjP",
        "colab": {
          "base_uri": "https://localhost:8080/",
          "height": 279
        },
        "outputId": "612c9070-9063-42d0-8ad9-7a6696c3a197"
      }
    },
    {
      "cell_type": "code",
      "execution_count": null,
      "source": [
        "save_path = 'vgg16/'\r\n",
        "tf.keras.models.save_model(model,save_path)"
      ],
      "outputs": [
        {
          "output_type": "stream",
          "name": "stdout",
          "text": [
            "INFO:tensorflow:Assets written to: vgg16/assets\n"
          ]
        }
      ],
      "metadata": {
        "id": "T9YWwyTRAKjQ",
        "colab": {
          "base_uri": "https://localhost:8080/"
        },
        "outputId": "c2e3cddb-8418-4ec1-d8d4-59c03eeae4fc"
      }
    },
    {
      "cell_type": "code",
      "execution_count": null,
      "source": [
        "f1_score_history = model.history.history['f1_score']\r\n",
        "f1_scores = [np.mean(item) for item in  f1_score_history]\r\n",
        "f1_score_val_hist = model.history.history['val_f1_score']\r\n",
        "f1_scores_val = [np.mean(item) for item in  f1_score_val_hist]"
      ],
      "outputs": [],
      "metadata": {
        "id": "5235CtmGAKjQ"
      }
    },
    {
      "cell_type": "code",
      "execution_count": null,
      "source": [
        "training_loss = f1_scores\r\n",
        "test_loss = f1_scores_val\r\n",
        "\r\n",
        "epoch_count = range(1, len(training_loss) + 1)\r\n",
        "\r\n",
        "plt.plot(epoch_count, training_loss, 'r--')\r\n",
        "plt.plot(epoch_count, test_loss, 'b-')\r\n",
        "plt.legend(['Training F1 score', 'Val F1 score'])\r\n",
        "plt.xlabel('Epoch')\r\n",
        "plt.ylabel('F1 Score')"
      ],
      "outputs": [
        {
          "output_type": "execute_result",
          "data": {
            "text/plain": [
              "Text(0, 0.5, 'F1 Score')"
            ]
          },
          "metadata": {
            "tags": []
          },
          "execution_count": 19
        },
        {
          "output_type": "display_data",
          "data": {
            "text/plain": [
              "<Figure size 432x288 with 1 Axes>"
            ],
            "image/png": "[encoded data removed]"
          },
          "metadata": {
            "tags": [],
            "needs_background": "light"
          }
        }
      ],
      "metadata": {
        "id": "Q2YGRKKnAKjQ",
        "colab": {
          "base_uri": "https://localhost:8080/",
          "height": 296
        },
        "outputId": "87c7870b-91b7-45cb-d83a-debcb8c674dc"
      }
    },
    {
      "cell_type": "code",
      "execution_count": null,
      "source": [
        "model.evaluate(test_generator)"
      ],
      "outputs": [
        {
          "output_type": "stream",
          "name": "stderr",
          "text": [
            "/usr/local/lib/python3.7/dist-packages/tensorflow/python/keras/metrics.py:257: UserWarning: Metric F1Score implements a `reset_states()` method; rename it to `reset_state()` (without the final \"s\"). The name `reset_states()` has been deprecated to improve API consistency.\n",
            "  'consistency.' % (self.__class__.__name__,))\n"
          ]
        },
        {
          "output_type": "stream",
          "name": "stdout",
          "text": [
            "84/84 [==============================] - 165s 2s/step - loss: 0.1762 - accuracy: 0.9416 - f1_score: 0.9127\n"
          ]
        },
        {
          "output_type": "execute_result",
          "data": {
            "text/plain": [
              "[0.1761772781610489,\n",
              " 0.9416167736053467,\n",
              " array([0.86274505, 0.9158879 , 0.95947427], dtype=float32)]"
            ]
          },
          "metadata": {
            "tags": []
          },
          "execution_count": 20
        }
      ],
      "metadata": {
        "colab": {
          "base_uri": "https://localhost:8080/"
        },
        "id": "CSsqagJjgxsA",
        "outputId": "064bddf3-bdaa-4d0c-eedd-d52beb69e870"
      }
    },
    {
      "cell_type": "code",
      "execution_count": null,
      "source": [
        "import seaborn as sns\r\n",
        "\r\n",
        "f1_scores = np.array([0.86274505, 0.9158879 , 0.95947427])\r\n",
        "\r\n",
        "tp = f1_scores[0] * TEST_POSITIVE_SIZE\r\n",
        "tn = ((f1_scores[1] + f1_scores[2])/2) * TEST_NEGATIVE_SIZE\r\n",
        "fp = (1-f1_scores[0]) * TEST_NEGATIVE_SIZE\r\n",
        "fn = (((1-f1_scores[1]) + (1-f1_scores[2]))/2) * TEST_POSITIVE_SIZE\r\n",
        "\r\n",
        "cf_matrix = np.array([[tn / TEST_NEGATIVE_SIZE * 100, fp / TEST_NEGATIVE_SIZE * 100],\r\n",
        "                      [fn / TEST_POSITIVE_SIZE * 100, tp / TEST_POSITIVE_SIZE * 100]\r\n",
        "                    ])\r\n",
        "\r\n",
        "group_names = ['True Negative','False Positive','False Negative','True Positive']\r\n",
        "percentages = [tn / TEST_NEGATIVE_SIZE, fp / TEST_NEGATIVE_SIZE, fn / TEST_POSITIVE_SIZE, tp / TEST_POSITIVE_SIZE]\r\n",
        "group_percentages = [\"{0:.3%}\".format(value) for value in percentages]\r\n",
        "labels = [f\"{v1}\\n{v2}\" for v1, v2 in\r\n",
        "          zip(group_names,group_percentages)]\r\n",
        "labels = np.asarray(labels).reshape(2,2)\r\n",
        "sns.heatmap(cf_matrix, vmin = 0, vmax = 100, annot=labels, fmt='', cmap='BuPu')"
      ],
      "outputs": [
        {
          "output_type": "execute_result",
          "data": {
            "text/plain": [
              "<matplotlib.axes._subplots.AxesSubplot at 0x7fe912f98190>"
            ]
          },
          "metadata": {
            "tags": []
          },
          "execution_count": 8
        },
        {
          "output_type": "display_data",
          "data": {
            "text/plain": [
              "<Figure size 432x288 with 2 Axes>"
            ],
            "image/png": "[encoded data removed]"
          },
          "metadata": {
            "tags": [],
            "needs_background": "light"
          }
        }
      ],
      "metadata": {
        "colab": {
          "base_uri": "https://localhost:8080/",
          "height": 286
        },
        "id": "ZHmhu6Cqg1gj",
        "outputId": "e9775954-8202-417e-83da-7c75150cf280"
      }
    },
    {
      "cell_type": "code",
      "execution_count": null,
      "source": [
        "sensitivity = tp / (tp + fn)\r\n",
        "specificity = tn / (tn + fp)\r\n",
        "\r\n",
        "print(f'Sensitivity: {sensitivity}')\r\n",
        "print(f'Specificity: {specificity}')"
      ],
      "outputs": [
        {
          "output_type": "stream",
          "name": "stdout",
          "text": [
            "Sensitivity: 0.9326328585288695\n",
            "Specificity: 0.8723133790932964\n"
          ]
        }
      ],
      "metadata": {
        "colab": {
          "base_uri": "https://localhost:8080/"
        },
        "id": "zb9BKEZm7crJ",
        "outputId": "1ff3aba0-6ff3-4bd8-fc72-cd4e65431a14"
      }
    }
  ]
}