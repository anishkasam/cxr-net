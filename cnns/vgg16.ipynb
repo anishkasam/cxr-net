{
  "nbformat": 4,
  "nbformat_minor": 2,
  "metadata": {
    "orig_nbformat": 4,
    "colab": {
      "name": "vgg16.ipynb",
      "provenance": []
    },
    "language_info": {
      "name": "python"
    },
    "kernelspec": {
      "name": "python3",
      "display_name": "Python 3"
    },
    "accelerator": "GPU"
  },
  "cells": [
    {
      "cell_type": "code",
      "execution_count": 24,
      "source": [
        "import numpy as np \r\n",
        "import pandas as pd \r\n",
        "from PIL import Image \r\n",
        "import pathlib\r\n",
        "import matplotlib.pyplot as plt\r\n",
        "import tensorflow as tf\r\n",
        "import tensorflow_addons as tfa\r\n",
        "from tensorflow.keras.applications import ResNet50"
      ],
      "outputs": [],
      "metadata": {
        "id": "XnCQEQABAKjH"
      }
    },
    {
      "cell_type": "code",
      "execution_count": 26,
      "source": [
        "IMG_WIDTH = 224\r\n",
        "IMG_HEIGHT = 224\r\n",
        "IMG_DIM = (IMG_WIDTH, IMG_HEIGHT)\r\n",
        "BATCH_SIZE = 8\r\n",
        "IMG_DIR = '/content/drive/MyDrive/summer 2021/sra/research/data/'\r\n",
        "TRAIN_DIR = '/content/drive/MyDrive/summer 2021/sra/research/data/train'\r\n",
        "VAL_DIR = '/content/drive/MyDrive/summer 2021/sra/research/data/test'"
      ],
      "outputs": [],
      "metadata": {
        "id": "8lpKfGfsAKjJ"
      }
    },
    {
      "cell_type": "code",
      "execution_count": 27,
      "source": [
        "from tensorflow.keras.applications.vgg16 import preprocess_input\r\n",
        "from tensorflow.keras.preprocessing.image import ImageDataGenerator\r\n",
        "\r\n",
        "# Specify the values for all arguments to data_generator_with_aug.\r\n",
        "data_generator_with_aug = ImageDataGenerator(preprocessing_function=preprocess_input,\r\n",
        "                                              horizontal_flip = True,\r\n",
        "                                              width_shift_range = 0.2,\r\n",
        "                                              height_shift_range = 0.2\r\n",
        "                                                )\r\n",
        "            \r\n",
        "data_generator_no_aug = ImageDataGenerator(preprocessing_function=preprocess_input)"
      ],
      "outputs": [],
      "metadata": {
        "id": "VDEn-TD5AKjK"
      }
    },
    {
      "cell_type": "code",
      "execution_count": 28,
      "source": [
        "train_generator = data_generator_with_aug.flow_from_directory(\r\n",
        "                                        directory=TRAIN_DIR,\r\n",
        "                                        target_size=IMG_DIM,\r\n",
        "                                        batch_size=BATCH_SIZE,\r\n",
        "                                        class_mode='categorical')\r\n",
        "\r\n",
        "validation_generator = data_generator_no_aug.flow_from_directory(\r\n",
        "                                        directory=VAL_DIR,\r\n",
        "                                        target_size=IMG_DIM,batch_size=BATCH_SIZE,\r\n",
        "                                        class_mode='categorical')"
      ],
      "outputs": [
        {
          "output_type": "stream",
          "name": "stdout",
          "text": [
            "Found 5144 images belonging to 3 classes.\n",
            "Found 1288 images belonging to 3 classes.\n"
          ]
        }
      ],
      "metadata": {
        "colab": {
          "base_uri": "https://localhost:8080/"
        },
        "id": "lLW16DdcAKjK",
        "outputId": "7e1fde54-606f-417c-d681-ad6afc8c4a70"
      }
    },
    {
      "cell_type": "code",
      "execution_count": 29,
      "source": [
        "from tensorflow.keras.applications.vgg16 import VGG16\r\n",
        "from tensorflow.keras.models import Model\r\n",
        "import tensorflow.keras as keras\r\n",
        "\r\n",
        "vgg16 = VGG16(include_top=False, weights='imagenet', input_shape=(IMG_HEIGHT,IMG_WIDTH,3),pooling='max')\r\n",
        "\r\n",
        "output = vgg16.layers[-1].output\r\n",
        "output = tf.keras.layers.Flatten()(output)\r\n",
        "vgg16 = Model(vgg16.input, output)\r\n",
        "\r\n",
        "res_name = []\r\n",
        "for layer in vgg16.layers:\r\n",
        "    res_name.append(layer.name)"
      ],
      "outputs": [],
      "metadata": {
        "id": "lv7xdTifAKjM"
      }
    },
    {
      "cell_type": "code",
      "execution_count": 30,
      "source": [
        "res_name[-21:]"
      ],
      "outputs": [
        {
          "output_type": "execute_result",
          "data": {
            "text/plain": [
              "['input_2',\n",
              " 'block1_conv1',\n",
              " 'block1_conv2',\n",
              " 'block1_pool',\n",
              " 'block2_conv1',\n",
              " 'block2_conv2',\n",
              " 'block2_pool',\n",
              " 'block3_conv1',\n",
              " 'block3_conv2',\n",
              " 'block3_conv3',\n",
              " 'block3_pool',\n",
              " 'block4_conv1',\n",
              " 'block4_conv2',\n",
              " 'block4_conv3',\n",
              " 'block4_pool',\n",
              " 'block5_conv1',\n",
              " 'block5_conv2',\n",
              " 'block5_conv3',\n",
              " 'block5_pool',\n",
              " 'global_max_pooling2d_1',\n",
              " 'flatten_1']"
            ]
          },
          "metadata": {
            "tags": []
          },
          "execution_count": 30
        }
      ],
      "metadata": {
        "colab": {
          "base_uri": "https://localhost:8080/"
        },
        "id": "3qOiYNu7AKjM",
        "outputId": "86342a70-bc72-4590-8354-f073f1d605fa"
      }
    },
    {
      "cell_type": "code",
      "execution_count": 31,
      "source": [
        "set_trainable = False\n",
        "for layer in vgg16.layers:\n",
        "    if layer.name in res_name[-21:]:\n",
        "        set_trainable = True\n",
        "    if set_trainable:\n",
        "        layer.trainable = True\n",
        "    else:\n",
        "        layer.trainable = False"
      ],
      "outputs": [],
      "metadata": {
        "id": "Y7Uu7OsSAKjM"
      }
    },
    {
      "cell_type": "code",
      "execution_count": 32,
      "source": [
        "vgg16.summary()"
      ],
      "outputs": [
        {
          "output_type": "stream",
          "name": "stdout",
          "text": [
            "Model: \"model_1\"\n",
            "_________________________________________________________________\n",
            "Layer (type)                 Output Shape              Param #   \n",
            "=================================================================\n",
            "input_2 (InputLayer)         [(None, 224, 224, 3)]     0         \n",
            "_________________________________________________________________\n",
            "block1_conv1 (Conv2D)        (None, 224, 224, 64)      1792      \n",
            "_________________________________________________________________\n",
            "block1_conv2 (Conv2D)        (None, 224, 224, 64)      36928     \n",
            "_________________________________________________________________\n",
            "block1_pool (MaxPooling2D)   (None, 112, 112, 64)      0         \n",
            "_________________________________________________________________\n",
            "block2_conv1 (Conv2D)        (None, 112, 112, 128)     73856     \n",
            "_________________________________________________________________\n",
            "block2_conv2 (Conv2D)        (None, 112, 112, 128)     147584    \n",
            "_________________________________________________________________\n",
            "block2_pool (MaxPooling2D)   (None, 56, 56, 128)       0         \n",
            "_________________________________________________________________\n",
            "block3_conv1 (Conv2D)        (None, 56, 56, 256)       295168    \n",
            "_________________________________________________________________\n",
            "block3_conv2 (Conv2D)        (None, 56, 56, 256)       590080    \n",
            "_________________________________________________________________\n",
            "block3_conv3 (Conv2D)        (None, 56, 56, 256)       590080    \n",
            "_________________________________________________________________\n",
            "block3_pool (MaxPooling2D)   (None, 28, 28, 256)       0         \n",
            "_________________________________________________________________\n",
            "block4_conv1 (Conv2D)        (None, 28, 28, 512)       1180160   \n",
            "_________________________________________________________________\n",
            "block4_conv2 (Conv2D)        (None, 28, 28, 512)       2359808   \n",
            "_________________________________________________________________\n",
            "block4_conv3 (Conv2D)        (None, 28, 28, 512)       2359808   \n",
            "_________________________________________________________________\n",
            "block4_pool (MaxPooling2D)   (None, 14, 14, 512)       0         \n",
            "_________________________________________________________________\n",
            "block5_conv1 (Conv2D)        (None, 14, 14, 512)       2359808   \n",
            "_________________________________________________________________\n",
            "block5_conv2 (Conv2D)        (None, 14, 14, 512)       2359808   \n",
            "_________________________________________________________________\n",
            "block5_conv3 (Conv2D)        (None, 14, 14, 512)       2359808   \n",
            "_________________________________________________________________\n",
            "block5_pool (MaxPooling2D)   (None, 7, 7, 512)         0         \n",
            "_________________________________________________________________\n",
            "global_max_pooling2d_1 (Glob (None, 512)               0         \n",
            "_________________________________________________________________\n",
            "flatten_1 (Flatten)          (None, 512)               0         \n",
            "=================================================================\n",
            "Total params: 14,714,688\n",
            "Trainable params: 14,714,688\n",
            "Non-trainable params: 0\n",
            "_________________________________________________________________\n"
          ]
        }
      ],
      "metadata": {
        "colab": {
          "base_uri": "https://localhost:8080/"
        },
        "id": "FBiOpQsNAKjN",
        "outputId": "72bfef26-660a-4479-8ddb-acd84f47d196"
      }
    },
    {
      "cell_type": "code",
      "execution_count": 33,
      "source": [
        "from tensorflow.keras.applications import VGG16\n",
        "from tensorflow.keras.models import Sequential\n",
        "from tensorflow.keras.layers import Dense, Flatten, GlobalAveragePooling2D, Dropout\n",
        "\n",
        "num_classes = 3\n",
        "\n",
        "model = Sequential()\n",
        "model.add(vgg16)\n",
        "model.add(Dense(1024, activation='relu'))\n",
        "model.add(Dropout(0.5))\n",
        "model.add(Dense(1024, activation='relu'))\n",
        "model.add(Dropout(0.5))\n",
        "model.add(Dense(num_classes, activation='softmax'))\n",
        "\n",
        "model.summary()"
      ],
      "outputs": [
        {
          "output_type": "stream",
          "name": "stdout",
          "text": [
            "Model: \"sequential_1\"\n",
            "_________________________________________________________________\n",
            "Layer (type)                 Output Shape              Param #   \n",
            "=================================================================\n",
            "model_1 (Functional)         (None, 512)               14714688  \n",
            "_________________________________________________________________\n",
            "dense_3 (Dense)              (None, 1024)              525312    \n",
            "_________________________________________________________________\n",
            "dropout_2 (Dropout)          (None, 1024)              0         \n",
            "_________________________________________________________________\n",
            "dense_4 (Dense)              (None, 1024)              1049600   \n",
            "_________________________________________________________________\n",
            "dropout_3 (Dropout)          (None, 1024)              0         \n",
            "_________________________________________________________________\n",
            "dense_5 (Dense)              (None, 3)                 3075      \n",
            "=================================================================\n",
            "Total params: 16,292,675\n",
            "Trainable params: 16,292,675\n",
            "Non-trainable params: 0\n",
            "_________________________________________________________________\n"
          ]
        }
      ],
      "metadata": {
        "colab": {
          "base_uri": "https://localhost:8080/"
        },
        "id": "JpJYdZyRAKjN",
        "outputId": "44bce525-d808-46eb-9024-532837e52356"
      }
    },
    {
      "cell_type": "code",
      "execution_count": 34,
      "source": [
        "adam = tf.keras.optimizers.Adam(learning_rate=0.0001)\n",
        "\n",
        "early_stop = tf.keras.callbacks.EarlyStopping(monitor='val_loss', patience=8,\n",
        "                                              restore_best_weights=False\n",
        "                                              )\n",
        "\n",
        "reduce_lr = tf.keras.callbacks.ReduceLROnPlateau(monitor='val_loss',\n",
        "                                   factor=0.2,\n",
        "                                   patience=4,\n",
        "                                   verbose=1,\n",
        "                                   min_delta=5*1e-3,min_lr = 5*1e-7,\n",
        "                                   )"
      ],
      "outputs": [],
      "metadata": {
        "id": "szKBml9AAKjO"
      }
    },
    {
      "cell_type": "code",
      "execution_count": 35,
      "source": [
        "model.compile(optimizer = adam, loss = 'categorical_crossentropy', metrics=['accuracy',tfa.metrics.F1Score(num_classes=num_classes)])"
      ],
      "outputs": [],
      "metadata": {
        "id": "ioodM-M9AKjO"
      }
    },
    {
      "cell_type": "code",
      "execution_count": 36,
      "source": [
        "model.fit(\n",
        "          train_generator,     \n",
        "          epochs = 12,\n",
        "          callbacks=[early_stop,reduce_lr],\n",
        "          validation_data = validation_generator\n",
        "          )"
      ],
      "outputs": [
        {
          "output_type": "stream",
          "name": "stdout",
          "text": [
            "Epoch 1/12\n",
            "643/643 [==============================] - ETA: 0s - loss: 0.9068 - accuracy: 0.6524 - f1_score: 0.3192"
          ]
        },
        {
          "output_type": "stream",
          "name": "stderr",
          "text": [
            "/usr/local/lib/python3.7/dist-packages/tensorflow/python/keras/metrics.py:257: UserWarning: Metric F1Score implements a `reset_states()` method; rename it to `reset_state()` (without the final \"s\"). The name `reset_states()` has been deprecated to improve API consistency.\n",
            "  'consistency.' % (self.__class__.__name__,))\n"
          ]
        },
        {
          "output_type": "stream",
          "name": "stdout",
          "text": [
            "643/643 [==============================] - 2803s 4s/step - loss: 0.9068 - accuracy: 0.6524 - f1_score: 0.3192 - val_loss: 0.5016 - val_accuracy: 0.6801 - val_f1_score: 0.3750\n",
            "Epoch 2/12\n",
            "643/643 [==============================] - 221s 343ms/step - loss: 0.4835 - accuracy: 0.8021 - f1_score: 0.7200 - val_loss: 0.3356 - val_accuracy: 0.8866 - val_f1_score: 0.8542\n",
            "Epoch 3/12\n",
            "643/643 [==============================] - 219s 340ms/step - loss: 0.3808 - accuracy: 0.8651 - f1_score: 0.8204 - val_loss: 0.2607 - val_accuracy: 0.8991 - val_f1_score: 0.8843\n",
            "Epoch 4/12\n",
            "643/643 [==============================] - 221s 344ms/step - loss: 0.3281 - accuracy: 0.8801 - f1_score: 0.8443 - val_loss: 0.1777 - val_accuracy: 0.9379 - val_f1_score: 0.9214\n",
            "Epoch 5/12\n",
            "643/643 [==============================] - 219s 341ms/step - loss: 0.2669 - accuracy: 0.9088 - f1_score: 0.8850 - val_loss: 0.2547 - val_accuracy: 0.9123 - val_f1_score: 0.9115\n",
            "Epoch 6/12\n",
            "643/643 [==============================] - 219s 340ms/step - loss: 0.2469 - accuracy: 0.9156 - f1_score: 0.8925 - val_loss: 0.1757 - val_accuracy: 0.9425 - val_f1_score: 0.9346\n",
            "Epoch 7/12\n",
            "643/643 [==============================] - 219s 341ms/step - loss: 0.2018 - accuracy: 0.9290 - f1_score: 0.9132 - val_loss: 0.1447 - val_accuracy: 0.9480 - val_f1_score: 0.9497\n",
            "Epoch 8/12\n",
            "643/643 [==============================] - 222s 344ms/step - loss: 0.1730 - accuracy: 0.9401 - f1_score: 0.9274 - val_loss: 0.2682 - val_accuracy: 0.8929 - val_f1_score: 0.8977\n",
            "Epoch 9/12\n",
            "643/643 [==============================] - 221s 344ms/step - loss: 0.1868 - accuracy: 0.9392 - f1_score: 0.9239 - val_loss: 0.6400 - val_accuracy: 0.7811 - val_f1_score: 0.7999\n",
            "Epoch 10/12\n",
            "643/643 [==============================] - 221s 344ms/step - loss: 0.1627 - accuracy: 0.9434 - f1_score: 0.9299 - val_loss: 0.1135 - val_accuracy: 0.9589 - val_f1_score: 0.9573\n",
            "Epoch 11/12\n",
            "643/643 [==============================] - 220s 343ms/step - loss: 0.1463 - accuracy: 0.9495 - f1_score: 0.9382 - val_loss: 0.1282 - val_accuracy: 0.9550 - val_f1_score: 0.9555\n",
            "Epoch 12/12\n",
            "643/643 [==============================] - 221s 343ms/step - loss: 0.1449 - accuracy: 0.9514 - f1_score: 0.9377 - val_loss: 0.1100 - val_accuracy: 0.9627 - val_f1_score: 0.9659\n"
          ]
        },
        {
          "output_type": "execute_result",
          "data": {
            "text/plain": [
              "<tensorflow.python.keras.callbacks.History at 0x7f78ee5358d0>"
            ]
          },
          "metadata": {
            "tags": []
          },
          "execution_count": 36
        }
      ],
      "metadata": {
        "colab": {
          "base_uri": "https://localhost:8080/"
        },
        "id": "bCIUnN0yAKjP",
        "outputId": "ded8107e-ba4a-48db-d6a6-b7dabd54ce89"
      }
    },
    {
      "cell_type": "code",
      "execution_count": 37,
      "source": [
        "def get_diagnostic_plot(model,name):\n",
        "    training_loss = model.history.history[name]\n",
        "    test_loss = model.history.history[f'val_{name}']\n",
        "\n",
        "    # Create count of the number of epochs\n",
        "    epoch_count = range(1, len(training_loss) + 1)\n",
        "\n",
        "    # Visualize loss history\n",
        "    plt.plot(epoch_count, training_loss, 'r--')\n",
        "    plt.plot(epoch_count, test_loss, 'b-')\n",
        "    plt.legend([f'Training {name}', f'Val {name}'])\n",
        "    plt.xlabel('Epoch')\n",
        "    plt.ylabel(name)"
      ],
      "outputs": [],
      "metadata": {
        "id": "dClt_s-xAKjP"
      }
    },
    {
      "cell_type": "code",
      "execution_count": 38,
      "source": [
        "get_diagnostic_plot(model,'loss')"
      ],
      "outputs": [
        {
          "output_type": "display_data",
          "data": {
            "text/plain": [
              "<Figure size 432x288 with 1 Axes>"
            ],
            "image/png": "[encoded data removed]"
          },
          "metadata": {
            "tags": [],
            "needs_background": "light"
          }
        }
      ],
      "metadata": {
        "id": "PaodrenlAKjP",
        "colab": {
          "base_uri": "https://localhost:8080/",
          "height": 279
        },
        "outputId": "71d701e3-26e1-4090-f45d-2da8339a89ea"
      }
    },
    {
      "cell_type": "code",
      "execution_count": 39,
      "source": [
        "save_path = 'vgg16/'\n",
        "tf.keras.models.save_model(model,save_path)"
      ],
      "outputs": [
        {
          "output_type": "stream",
          "name": "stdout",
          "text": [
            "INFO:tensorflow:Assets written to: vgg16/assets\n"
          ]
        }
      ],
      "metadata": {
        "id": "T9YWwyTRAKjQ",
        "colab": {
          "base_uri": "https://localhost:8080/"
        },
        "outputId": "f58dd49b-ec95-4c52-dfd9-b57722b5c572"
      }
    },
    {
      "cell_type": "code",
      "execution_count": 40,
      "source": [
        "f1_score_history = model.history.history['f1_score']\n",
        "f1_scores = [np.mean(item) for item in  f1_score_history]\n",
        "f1_score_val_hist = model.history.history['val_f1_score']\n",
        "f1_scores_val = [np.mean(item) for item in  f1_score_val_hist]"
      ],
      "outputs": [],
      "metadata": {
        "id": "5235CtmGAKjQ"
      }
    },
    {
      "cell_type": "code",
      "execution_count": 41,
      "source": [
        "training_loss = f1_scores\n",
        "test_loss = f1_scores_val\n",
        "\n",
        "# Create count of the number of epochs\n",
        "epoch_count = range(1, len(training_loss) + 1)\n",
        "\n",
        "    # Visualize loss history\n",
        "plt.plot(epoch_count, training_loss, 'r--')\n",
        "plt.plot(epoch_count, test_loss, 'b-')\n",
        "plt.legend(['Training F1 score', 'Val F1 score'])\n",
        "plt.xlabel('Epoch')\n",
        "plt.ylabel('F1 Score')"
      ],
      "outputs": [
        {
          "output_type": "execute_result",
          "data": {
            "text/plain": [
              "Text(0, 0.5, 'F1 Score')"
            ]
          },
          "metadata": {
            "tags": []
          },
          "execution_count": 41
        },
        {
          "output_type": "display_data",
          "data": {
            "text/plain": [
              "<Figure size 432x288 with 1 Axes>"
            ],
            "image/png": "[encoded data removed]"
          },
          "metadata": {
            "tags": [],
            "needs_background": "light"
          }
        }
      ],
      "metadata": {
        "id": "Q2YGRKKnAKjQ",
        "colab": {
          "base_uri": "https://localhost:8080/",
          "height": 296
        },
        "outputId": "55b7b065-e0c1-4b22-8020-d28046c454e8"
      }
    }
  ]
}