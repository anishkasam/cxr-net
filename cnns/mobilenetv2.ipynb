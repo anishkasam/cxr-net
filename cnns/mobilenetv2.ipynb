{
  "nbformat": 4,
  "nbformat_minor": 2,
  "metadata": {
    "orig_nbformat": 4,
    "colab": {
      "name": "mobilenetv2.ipynb",
      "provenance": [],
      "collapsed_sections": []
    },
    "language_info": {
      "name": "python"
    },
    "kernelspec": {
      "name": "python3",
      "display_name": "Python 3"
    },
    "accelerator": "GPU"
  },
  "cells": [
    {
      "cell_type": "code",
      "execution_count": 4,
      "source": [
        "import numpy as np \r\n",
        "import pandas as pd \r\n",
        "from PIL import Image \r\n",
        "import pathlib\r\n",
        "import matplotlib.pyplot as plt\r\n",
        "import tensorflow as tf\r\n",
        "import tensorflow_addons as tfa\r\n",
        "from tensorflow.keras.applications import ResNet50"
      ],
      "outputs": [],
      "metadata": {
        "id": "XnCQEQABAKjH"
      }
    },
    {
      "cell_type": "code",
      "execution_count": 5,
      "source": [
        "IMG_WIDTH = 224\r\n",
        "IMG_HEIGHT = 224\r\n",
        "IMG_DIM = (IMG_WIDTH, IMG_HEIGHT)\r\n",
        "BATCH_SIZE = 8\r\n",
        "\r\n",
        "TRAIN_POSITIVE_SIZE = 460\r\n",
        "TRAIN_NEGATIVE_SIZE = 4684\r\n",
        "VALIDATION_POSITIVE_SIZE = 58\r\n",
        "VALIDATION_NEGATIVE_SIZE = 562\r\n",
        "TEST_POSITIVE_SIZE = 58\r\n",
        "TEST_NEGATIVE_SIZE = 610\r\n",
        "\r\n",
        "IMG_DIR = '/content/drive/MyDrive/summer 2021/sra/research/data/'\r\n",
        "TRAIN_DIR = '/content/drive/MyDrive/summer 2021/sra/research/data/train'\r\n",
        "VAL_DIR = '/content/drive/MyDrive/summer 2021/sra/research/data/validation'\r\n",
        "TEST_DIR = '/content/drive/MyDrive/summer 2021/sra/research/data/test'"
      ],
      "outputs": [],
      "metadata": {
        "id": "8lpKfGfsAKjJ"
      }
    },
    {
      "cell_type": "code",
      "execution_count": null,
      "source": [
        "from tensorflow.keras.applications.mobilenet_v2 import preprocess_input\r\n",
        "from tensorflow.keras.preprocessing.image import ImageDataGenerator\r\n",
        "\r\n",
        "data_generator_with_aug = ImageDataGenerator(preprocessing_function=preprocess_input,\r\n",
        "                                              horizontal_flip = True,\r\n",
        "                                              width_shift_range = 0.2,\r\n",
        "                                              height_shift_range = 0.2\r\n",
        "                                              )\r\n",
        "            \r\n",
        "data_generator_no_aug = ImageDataGenerator(preprocessing_function=preprocess_input)"
      ],
      "outputs": [],
      "metadata": {
        "id": "VDEn-TD5AKjK"
      }
    },
    {
      "cell_type": "code",
      "execution_count": null,
      "source": [
        "train_generator = data_generator_with_aug.flow_from_directory(\r\n",
        "                                        directory=TRAIN_DIR,\r\n",
        "                                        target_size=IMG_DIM,\r\n",
        "                                        batch_size=BATCH_SIZE,\r\n",
        "                                        class_mode='categorical'\r\n",
        "                                        )\r\n",
        "\r\n",
        "validation_generator = data_generator_no_aug.flow_from_directory(\r\n",
        "                                        directory=VAL_DIR,\r\n",
        "                                        target_size=IMG_DIM,batch_size=BATCH_SIZE,\r\n",
        "                                        class_mode='categorical')\r\n",
        "\r\n",
        "test_generator = data_generator_no_aug.flow_from_directory(\r\n",
        "                                        directory=TEST_DIR,\r\n",
        "                                        target_size=IMG_DIM,batch_size=BATCH_SIZE,\r\n",
        "                                        class_mode='categorical',\r\n",
        "                                        )\r\n",
        "\r\n",
        "print(train_generator.class_indices)\r\n",
        "print(validation_generator.class_indices)\r\n",
        "print(test_generator.class_indices)"
      ],
      "outputs": [
        {
          "output_type": "stream",
          "name": "stdout",
          "text": [
            "Found 5144 images belonging to 3 classes.\n",
            "Found 620 images belonging to 3 classes.\n",
            "Found 668 images belonging to 3 classes.\n",
            "{'COVID19': 0, 'NORMAL': 1, 'PNEUMONIA': 2}\n",
            "{'COVID19': 0, 'NORMAL': 1, 'PNEUMONIA': 2}\n",
            "{'COVID19': 0, 'NORMAL': 1, 'PNEUMONIA': 2}\n"
          ]
        }
      ],
      "metadata": {
        "colab": {
          "base_uri": "https://localhost:8080/"
        },
        "id": "lLW16DdcAKjK",
        "outputId": "2bc244f5-73d9-4160-e665-df67d354102c"
      }
    },
    {
      "cell_type": "code",
      "execution_count": null,
      "source": [
        "from tensorflow.keras.applications.mobilenet_v2 import MobileNetV2\r\n",
        "from tensorflow.keras.models import Model\r\n",
        "import tensorflow.keras as keras\r\n",
        "\r\n",
        "mobilenet_v2 = MobileNetV2(include_top=False, weights='imagenet', input_shape=(IMG_HEIGHT,IMG_WIDTH,3),pooling='max')\r\n",
        "\r\n",
        "output = mobilenet_v2.layers[-1].output\r\n",
        "output = tf.keras.layers.Flatten()(output)\r\n",
        "mobilenet_v2 = Model(mobilenet_v2.input, output)\r\n",
        "\r\n",
        "res_name = []\r\n",
        "for layer in mobilenet_v2.layers:\r\n",
        "    res_name.append(layer.name)"
      ],
      "outputs": [
        {
          "output_type": "stream",
          "name": "stdout",
          "text": [
            "Downloading data from https://storage.googleapis.com/tensorflow/keras-applications/mobilenet_v2/mobilenet_v2_weights_tf_dim_ordering_tf_kernels_1.0_224_no_top.h5\n",
            "9412608/9406464 [==============================] - 0s 0us/step\n"
          ]
        }
      ],
      "metadata": {
        "id": "lv7xdTifAKjM",
        "colab": {
          "base_uri": "https://localhost:8080/"
        },
        "outputId": "45451656-98ea-442f-aaa6-8ba09c3969ca"
      }
    },
    {
      "cell_type": "code",
      "execution_count": null,
      "source": [
        "res_name[-156:]"
      ],
      "outputs": [
        {
          "output_type": "execute_result",
          "data": {
            "text/plain": [
              "['input_1',\n",
              " 'Conv1',\n",
              " 'bn_Conv1',\n",
              " 'Conv1_relu',\n",
              " 'expanded_conv_depthwise',\n",
              " 'expanded_conv_depthwise_BN',\n",
              " 'expanded_conv_depthwise_relu',\n",
              " 'expanded_conv_project',\n",
              " 'expanded_conv_project_BN',\n",
              " 'block_1_expand',\n",
              " 'block_1_expand_BN',\n",
              " 'block_1_expand_relu',\n",
              " 'block_1_pad',\n",
              " 'block_1_depthwise',\n",
              " 'block_1_depthwise_BN',\n",
              " 'block_1_depthwise_relu',\n",
              " 'block_1_project',\n",
              " 'block_1_project_BN',\n",
              " 'block_2_expand',\n",
              " 'block_2_expand_BN',\n",
              " 'block_2_expand_relu',\n",
              " 'block_2_depthwise',\n",
              " 'block_2_depthwise_BN',\n",
              " 'block_2_depthwise_relu',\n",
              " 'block_2_project',\n",
              " 'block_2_project_BN',\n",
              " 'block_2_add',\n",
              " 'block_3_expand',\n",
              " 'block_3_expand_BN',\n",
              " 'block_3_expand_relu',\n",
              " 'block_3_pad',\n",
              " 'block_3_depthwise',\n",
              " 'block_3_depthwise_BN',\n",
              " 'block_3_depthwise_relu',\n",
              " 'block_3_project',\n",
              " 'block_3_project_BN',\n",
              " 'block_4_expand',\n",
              " 'block_4_expand_BN',\n",
              " 'block_4_expand_relu',\n",
              " 'block_4_depthwise',\n",
              " 'block_4_depthwise_BN',\n",
              " 'block_4_depthwise_relu',\n",
              " 'block_4_project',\n",
              " 'block_4_project_BN',\n",
              " 'block_4_add',\n",
              " 'block_5_expand',\n",
              " 'block_5_expand_BN',\n",
              " 'block_5_expand_relu',\n",
              " 'block_5_depthwise',\n",
              " 'block_5_depthwise_BN',\n",
              " 'block_5_depthwise_relu',\n",
              " 'block_5_project',\n",
              " 'block_5_project_BN',\n",
              " 'block_5_add',\n",
              " 'block_6_expand',\n",
              " 'block_6_expand_BN',\n",
              " 'block_6_expand_relu',\n",
              " 'block_6_pad',\n",
              " 'block_6_depthwise',\n",
              " 'block_6_depthwise_BN',\n",
              " 'block_6_depthwise_relu',\n",
              " 'block_6_project',\n",
              " 'block_6_project_BN',\n",
              " 'block_7_expand',\n",
              " 'block_7_expand_BN',\n",
              " 'block_7_expand_relu',\n",
              " 'block_7_depthwise',\n",
              " 'block_7_depthwise_BN',\n",
              " 'block_7_depthwise_relu',\n",
              " 'block_7_project',\n",
              " 'block_7_project_BN',\n",
              " 'block_7_add',\n",
              " 'block_8_expand',\n",
              " 'block_8_expand_BN',\n",
              " 'block_8_expand_relu',\n",
              " 'block_8_depthwise',\n",
              " 'block_8_depthwise_BN',\n",
              " 'block_8_depthwise_relu',\n",
              " 'block_8_project',\n",
              " 'block_8_project_BN',\n",
              " 'block_8_add',\n",
              " 'block_9_expand',\n",
              " 'block_9_expand_BN',\n",
              " 'block_9_expand_relu',\n",
              " 'block_9_depthwise',\n",
              " 'block_9_depthwise_BN',\n",
              " 'block_9_depthwise_relu',\n",
              " 'block_9_project',\n",
              " 'block_9_project_BN',\n",
              " 'block_9_add',\n",
              " 'block_10_expand',\n",
              " 'block_10_expand_BN',\n",
              " 'block_10_expand_relu',\n",
              " 'block_10_depthwise',\n",
              " 'block_10_depthwise_BN',\n",
              " 'block_10_depthwise_relu',\n",
              " 'block_10_project',\n",
              " 'block_10_project_BN',\n",
              " 'block_11_expand',\n",
              " 'block_11_expand_BN',\n",
              " 'block_11_expand_relu',\n",
              " 'block_11_depthwise',\n",
              " 'block_11_depthwise_BN',\n",
              " 'block_11_depthwise_relu',\n",
              " 'block_11_project',\n",
              " 'block_11_project_BN',\n",
              " 'block_11_add',\n",
              " 'block_12_expand',\n",
              " 'block_12_expand_BN',\n",
              " 'block_12_expand_relu',\n",
              " 'block_12_depthwise',\n",
              " 'block_12_depthwise_BN',\n",
              " 'block_12_depthwise_relu',\n",
              " 'block_12_project',\n",
              " 'block_12_project_BN',\n",
              " 'block_12_add',\n",
              " 'block_13_expand',\n",
              " 'block_13_expand_BN',\n",
              " 'block_13_expand_relu',\n",
              " 'block_13_pad',\n",
              " 'block_13_depthwise',\n",
              " 'block_13_depthwise_BN',\n",
              " 'block_13_depthwise_relu',\n",
              " 'block_13_project',\n",
              " 'block_13_project_BN',\n",
              " 'block_14_expand',\n",
              " 'block_14_expand_BN',\n",
              " 'block_14_expand_relu',\n",
              " 'block_14_depthwise',\n",
              " 'block_14_depthwise_BN',\n",
              " 'block_14_depthwise_relu',\n",
              " 'block_14_project',\n",
              " 'block_14_project_BN',\n",
              " 'block_14_add',\n",
              " 'block_15_expand',\n",
              " 'block_15_expand_BN',\n",
              " 'block_15_expand_relu',\n",
              " 'block_15_depthwise',\n",
              " 'block_15_depthwise_BN',\n",
              " 'block_15_depthwise_relu',\n",
              " 'block_15_project',\n",
              " 'block_15_project_BN',\n",
              " 'block_15_add',\n",
              " 'block_16_expand',\n",
              " 'block_16_expand_BN',\n",
              " 'block_16_expand_relu',\n",
              " 'block_16_depthwise',\n",
              " 'block_16_depthwise_BN',\n",
              " 'block_16_depthwise_relu',\n",
              " 'block_16_project',\n",
              " 'block_16_project_BN',\n",
              " 'Conv_1',\n",
              " 'Conv_1_bn',\n",
              " 'out_relu',\n",
              " 'global_max_pooling2d',\n",
              " 'flatten']"
            ]
          },
          "metadata": {
            "tags": []
          },
          "execution_count": 13
        }
      ],
      "metadata": {
        "colab": {
          "base_uri": "https://localhost:8080/"
        },
        "id": "3qOiYNu7AKjM",
        "outputId": "4681e41d-877c-492c-8ec8-218d86525b59"
      }
    },
    {
      "cell_type": "code",
      "execution_count": null,
      "source": [
        "set_trainable = False\r\n",
        "for layer in mobilenet_v2.layers:\r\n",
        "    if layer.name in res_name[-156:]:\r\n",
        "        set_trainable = True\r\n",
        "    if set_trainable:\r\n",
        "        layer.trainable = True\r\n",
        "    else:\r\n",
        "        layer.trainable = False"
      ],
      "outputs": [],
      "metadata": {
        "id": "Y7Uu7OsSAKjM"
      }
    },
    {
      "cell_type": "code",
      "execution_count": null,
      "source": [
        "mobilenet_v2.summary()"
      ],
      "outputs": [
        {
          "output_type": "stream",
          "name": "stdout",
          "text": [
            "Model: \"model\"\n",
            "__________________________________________________________________________________________________\n",
            "Layer (type)                    Output Shape         Param #     Connected to                     \n",
            "==================================================================================================\n",
            "input_1 (InputLayer)            [(None, 224, 224, 3) 0                                            \n",
            "__________________________________________________________________________________________________\n",
            "Conv1 (Conv2D)                  (None, 112, 112, 32) 864         input_1[0][0]                    \n",
            "__________________________________________________________________________________________________\n",
            "bn_Conv1 (BatchNormalization)   (None, 112, 112, 32) 128         Conv1[0][0]                      \n",
            "__________________________________________________________________________________________________\n",
            "Conv1_relu (ReLU)               (None, 112, 112, 32) 0           bn_Conv1[0][0]                   \n",
            "__________________________________________________________________________________________________\n",
            "expanded_conv_depthwise (Depthw (None, 112, 112, 32) 288         Conv1_relu[0][0]                 \n",
            "__________________________________________________________________________________________________\n",
            "expanded_conv_depthwise_BN (Bat (None, 112, 112, 32) 128         expanded_conv_depthwise[0][0]    \n",
            "__________________________________________________________________________________________________\n",
            "expanded_conv_depthwise_relu (R (None, 112, 112, 32) 0           expanded_conv_depthwise_BN[0][0] \n",
            "__________________________________________________________________________________________________\n",
            "expanded_conv_project (Conv2D)  (None, 112, 112, 16) 512         expanded_conv_depthwise_relu[0][0\n",
            "__________________________________________________________________________________________________\n",
            "expanded_conv_project_BN (Batch (None, 112, 112, 16) 64          expanded_conv_project[0][0]      \n",
            "__________________________________________________________________________________________________\n",
            "block_1_expand (Conv2D)         (None, 112, 112, 96) 1536        expanded_conv_project_BN[0][0]   \n",
            "__________________________________________________________________________________________________\n",
            "block_1_expand_BN (BatchNormali (None, 112, 112, 96) 384         block_1_expand[0][0]             \n",
            "__________________________________________________________________________________________________\n",
            "block_1_expand_relu (ReLU)      (None, 112, 112, 96) 0           block_1_expand_BN[0][0]          \n",
            "__________________________________________________________________________________________________\n",
            "block_1_pad (ZeroPadding2D)     (None, 113, 113, 96) 0           block_1_expand_relu[0][0]        \n",
            "__________________________________________________________________________________________________\n",
            "block_1_depthwise (DepthwiseCon (None, 56, 56, 96)   864         block_1_pad[0][0]                \n",
            "__________________________________________________________________________________________________\n",
            "block_1_depthwise_BN (BatchNorm (None, 56, 56, 96)   384         block_1_depthwise[0][0]          \n",
            "__________________________________________________________________________________________________\n",
            "block_1_depthwise_relu (ReLU)   (None, 56, 56, 96)   0           block_1_depthwise_BN[0][0]       \n",
            "__________________________________________________________________________________________________\n",
            "block_1_project (Conv2D)        (None, 56, 56, 24)   2304        block_1_depthwise_relu[0][0]     \n",
            "__________________________________________________________________________________________________\n",
            "block_1_project_BN (BatchNormal (None, 56, 56, 24)   96          block_1_project[0][0]            \n",
            "__________________________________________________________________________________________________\n",
            "block_2_expand (Conv2D)         (None, 56, 56, 144)  3456        block_1_project_BN[0][0]         \n",
            "__________________________________________________________________________________________________\n",
            "block_2_expand_BN (BatchNormali (None, 56, 56, 144)  576         block_2_expand[0][0]             \n",
            "__________________________________________________________________________________________________\n",
            "block_2_expand_relu (ReLU)      (None, 56, 56, 144)  0           block_2_expand_BN[0][0]          \n",
            "__________________________________________________________________________________________________\n",
            "block_2_depthwise (DepthwiseCon (None, 56, 56, 144)  1296        block_2_expand_relu[0][0]        \n",
            "__________________________________________________________________________________________________\n",
            "block_2_depthwise_BN (BatchNorm (None, 56, 56, 144)  576         block_2_depthwise[0][0]          \n",
            "__________________________________________________________________________________________________\n",
            "block_2_depthwise_relu (ReLU)   (None, 56, 56, 144)  0           block_2_depthwise_BN[0][0]       \n",
            "__________________________________________________________________________________________________\n",
            "block_2_project (Conv2D)        (None, 56, 56, 24)   3456        block_2_depthwise_relu[0][0]     \n",
            "__________________________________________________________________________________________________\n",
            "block_2_project_BN (BatchNormal (None, 56, 56, 24)   96          block_2_project[0][0]            \n",
            "__________________________________________________________________________________________________\n",
            "block_2_add (Add)               (None, 56, 56, 24)   0           block_1_project_BN[0][0]         \n",
            "                                                                 block_2_project_BN[0][0]         \n",
            "__________________________________________________________________________________________________\n",
            "block_3_expand (Conv2D)         (None, 56, 56, 144)  3456        block_2_add[0][0]                \n",
            "__________________________________________________________________________________________________\n",
            "block_3_expand_BN (BatchNormali (None, 56, 56, 144)  576         block_3_expand[0][0]             \n",
            "__________________________________________________________________________________________________\n",
            "block_3_expand_relu (ReLU)      (None, 56, 56, 144)  0           block_3_expand_BN[0][0]          \n",
            "__________________________________________________________________________________________________\n",
            "block_3_pad (ZeroPadding2D)     (None, 57, 57, 144)  0           block_3_expand_relu[0][0]        \n",
            "__________________________________________________________________________________________________\n",
            "block_3_depthwise (DepthwiseCon (None, 28, 28, 144)  1296        block_3_pad[0][0]                \n",
            "__________________________________________________________________________________________________\n",
            "block_3_depthwise_BN (BatchNorm (None, 28, 28, 144)  576         block_3_depthwise[0][0]          \n",
            "__________________________________________________________________________________________________\n",
            "block_3_depthwise_relu (ReLU)   (None, 28, 28, 144)  0           block_3_depthwise_BN[0][0]       \n",
            "__________________________________________________________________________________________________\n",
            "block_3_project (Conv2D)        (None, 28, 28, 32)   4608        block_3_depthwise_relu[0][0]     \n",
            "__________________________________________________________________________________________________\n",
            "block_3_project_BN (BatchNormal (None, 28, 28, 32)   128         block_3_project[0][0]            \n",
            "__________________________________________________________________________________________________\n",
            "block_4_expand (Conv2D)         (None, 28, 28, 192)  6144        block_3_project_BN[0][0]         \n",
            "__________________________________________________________________________________________________\n",
            "block_4_expand_BN (BatchNormali (None, 28, 28, 192)  768         block_4_expand[0][0]             \n",
            "__________________________________________________________________________________________________\n",
            "block_4_expand_relu (ReLU)      (None, 28, 28, 192)  0           block_4_expand_BN[0][0]          \n",
            "__________________________________________________________________________________________________\n",
            "block_4_depthwise (DepthwiseCon (None, 28, 28, 192)  1728        block_4_expand_relu[0][0]        \n",
            "__________________________________________________________________________________________________\n",
            "block_4_depthwise_BN (BatchNorm (None, 28, 28, 192)  768         block_4_depthwise[0][0]          \n",
            "__________________________________________________________________________________________________\n",
            "block_4_depthwise_relu (ReLU)   (None, 28, 28, 192)  0           block_4_depthwise_BN[0][0]       \n",
            "__________________________________________________________________________________________________\n",
            "block_4_project (Conv2D)        (None, 28, 28, 32)   6144        block_4_depthwise_relu[0][0]     \n",
            "__________________________________________________________________________________________________\n",
            "block_4_project_BN (BatchNormal (None, 28, 28, 32)   128         block_4_project[0][0]            \n",
            "__________________________________________________________________________________________________\n",
            "block_4_add (Add)               (None, 28, 28, 32)   0           block_3_project_BN[0][0]         \n",
            "                                                                 block_4_project_BN[0][0]         \n",
            "__________________________________________________________________________________________________\n",
            "block_5_expand (Conv2D)         (None, 28, 28, 192)  6144        block_4_add[0][0]                \n",
            "__________________________________________________________________________________________________\n",
            "block_5_expand_BN (BatchNormali (None, 28, 28, 192)  768         block_5_expand[0][0]             \n",
            "__________________________________________________________________________________________________\n",
            "block_5_expand_relu (ReLU)      (None, 28, 28, 192)  0           block_5_expand_BN[0][0]          \n",
            "__________________________________________________________________________________________________\n",
            "block_5_depthwise (DepthwiseCon (None, 28, 28, 192)  1728        block_5_expand_relu[0][0]        \n",
            "__________________________________________________________________________________________________\n",
            "block_5_depthwise_BN (BatchNorm (None, 28, 28, 192)  768         block_5_depthwise[0][0]          \n",
            "__________________________________________________________________________________________________\n",
            "block_5_depthwise_relu (ReLU)   (None, 28, 28, 192)  0           block_5_depthwise_BN[0][0]       \n",
            "__________________________________________________________________________________________________\n",
            "block_5_project (Conv2D)        (None, 28, 28, 32)   6144        block_5_depthwise_relu[0][0]     \n",
            "__________________________________________________________________________________________________\n",
            "block_5_project_BN (BatchNormal (None, 28, 28, 32)   128         block_5_project[0][0]            \n",
            "__________________________________________________________________________________________________\n",
            "block_5_add (Add)               (None, 28, 28, 32)   0           block_4_add[0][0]                \n",
            "                                                                 block_5_project_BN[0][0]         \n",
            "__________________________________________________________________________________________________\n",
            "block_6_expand (Conv2D)         (None, 28, 28, 192)  6144        block_5_add[0][0]                \n",
            "__________________________________________________________________________________________________\n",
            "block_6_expand_BN (BatchNormali (None, 28, 28, 192)  768         block_6_expand[0][0]             \n",
            "__________________________________________________________________________________________________\n",
            "block_6_expand_relu (ReLU)      (None, 28, 28, 192)  0           block_6_expand_BN[0][0]          \n",
            "__________________________________________________________________________________________________\n",
            "block_6_pad (ZeroPadding2D)     (None, 29, 29, 192)  0           block_6_expand_relu[0][0]        \n",
            "__________________________________________________________________________________________________\n",
            "block_6_depthwise (DepthwiseCon (None, 14, 14, 192)  1728        block_6_pad[0][0]                \n",
            "__________________________________________________________________________________________________\n",
            "block_6_depthwise_BN (BatchNorm (None, 14, 14, 192)  768         block_6_depthwise[0][0]          \n",
            "__________________________________________________________________________________________________\n",
            "block_6_depthwise_relu (ReLU)   (None, 14, 14, 192)  0           block_6_depthwise_BN[0][0]       \n",
            "__________________________________________________________________________________________________\n",
            "block_6_project (Conv2D)        (None, 14, 14, 64)   12288       block_6_depthwise_relu[0][0]     \n",
            "__________________________________________________________________________________________________\n",
            "block_6_project_BN (BatchNormal (None, 14, 14, 64)   256         block_6_project[0][0]            \n",
            "__________________________________________________________________________________________________\n",
            "block_7_expand (Conv2D)         (None, 14, 14, 384)  24576       block_6_project_BN[0][0]         \n",
            "__________________________________________________________________________________________________\n",
            "block_7_expand_BN (BatchNormali (None, 14, 14, 384)  1536        block_7_expand[0][0]             \n",
            "__________________________________________________________________________________________________\n",
            "block_7_expand_relu (ReLU)      (None, 14, 14, 384)  0           block_7_expand_BN[0][0]          \n",
            "__________________________________________________________________________________________________\n",
            "block_7_depthwise (DepthwiseCon (None, 14, 14, 384)  3456        block_7_expand_relu[0][0]        \n",
            "__________________________________________________________________________________________________\n",
            "block_7_depthwise_BN (BatchNorm (None, 14, 14, 384)  1536        block_7_depthwise[0][0]          \n",
            "__________________________________________________________________________________________________\n",
            "block_7_depthwise_relu (ReLU)   (None, 14, 14, 384)  0           block_7_depthwise_BN[0][0]       \n",
            "__________________________________________________________________________________________________\n",
            "block_7_project (Conv2D)        (None, 14, 14, 64)   24576       block_7_depthwise_relu[0][0]     \n",
            "__________________________________________________________________________________________________\n",
            "block_7_project_BN (BatchNormal (None, 14, 14, 64)   256         block_7_project[0][0]            \n",
            "__________________________________________________________________________________________________\n",
            "block_7_add (Add)               (None, 14, 14, 64)   0           block_6_project_BN[0][0]         \n",
            "                                                                 block_7_project_BN[0][0]         \n",
            "__________________________________________________________________________________________________\n",
            "block_8_expand (Conv2D)         (None, 14, 14, 384)  24576       block_7_add[0][0]                \n",
            "__________________________________________________________________________________________________\n",
            "block_8_expand_BN (BatchNormali (None, 14, 14, 384)  1536        block_8_expand[0][0]             \n",
            "__________________________________________________________________________________________________\n",
            "block_8_expand_relu (ReLU)      (None, 14, 14, 384)  0           block_8_expand_BN[0][0]          \n",
            "__________________________________________________________________________________________________\n",
            "block_8_depthwise (DepthwiseCon (None, 14, 14, 384)  3456        block_8_expand_relu[0][0]        \n",
            "__________________________________________________________________________________________________\n",
            "block_8_depthwise_BN (BatchNorm (None, 14, 14, 384)  1536        block_8_depthwise[0][0]          \n",
            "__________________________________________________________________________________________________\n",
            "block_8_depthwise_relu (ReLU)   (None, 14, 14, 384)  0           block_8_depthwise_BN[0][0]       \n",
            "__________________________________________________________________________________________________\n",
            "block_8_project (Conv2D)        (None, 14, 14, 64)   24576       block_8_depthwise_relu[0][0]     \n",
            "__________________________________________________________________________________________________\n",
            "block_8_project_BN (BatchNormal (None, 14, 14, 64)   256         block_8_project[0][0]            \n",
            "__________________________________________________________________________________________________\n",
            "block_8_add (Add)               (None, 14, 14, 64)   0           block_7_add[0][0]                \n",
            "                                                                 block_8_project_BN[0][0]         \n",
            "__________________________________________________________________________________________________\n",
            "block_9_expand (Conv2D)         (None, 14, 14, 384)  24576       block_8_add[0][0]                \n",
            "__________________________________________________________________________________________________\n",
            "block_9_expand_BN (BatchNormali (None, 14, 14, 384)  1536        block_9_expand[0][0]             \n",
            "__________________________________________________________________________________________________\n",
            "block_9_expand_relu (ReLU)      (None, 14, 14, 384)  0           block_9_expand_BN[0][0]          \n",
            "__________________________________________________________________________________________________\n",
            "block_9_depthwise (DepthwiseCon (None, 14, 14, 384)  3456        block_9_expand_relu[0][0]        \n",
            "__________________________________________________________________________________________________\n",
            "block_9_depthwise_BN (BatchNorm (None, 14, 14, 384)  1536        block_9_depthwise[0][0]          \n",
            "__________________________________________________________________________________________________\n",
            "block_9_depthwise_relu (ReLU)   (None, 14, 14, 384)  0           block_9_depthwise_BN[0][0]       \n",
            "__________________________________________________________________________________________________\n",
            "block_9_project (Conv2D)        (None, 14, 14, 64)   24576       block_9_depthwise_relu[0][0]     \n",
            "__________________________________________________________________________________________________\n",
            "block_9_project_BN (BatchNormal (None, 14, 14, 64)   256         block_9_project[0][0]            \n",
            "__________________________________________________________________________________________________\n",
            "block_9_add (Add)               (None, 14, 14, 64)   0           block_8_add[0][0]                \n",
            "                                                                 block_9_project_BN[0][0]         \n",
            "__________________________________________________________________________________________________\n",
            "block_10_expand (Conv2D)        (None, 14, 14, 384)  24576       block_9_add[0][0]                \n",
            "__________________________________________________________________________________________________\n",
            "block_10_expand_BN (BatchNormal (None, 14, 14, 384)  1536        block_10_expand[0][0]            \n",
            "__________________________________________________________________________________________________\n",
            "block_10_expand_relu (ReLU)     (None, 14, 14, 384)  0           block_10_expand_BN[0][0]         \n",
            "__________________________________________________________________________________________________\n",
            "block_10_depthwise (DepthwiseCo (None, 14, 14, 384)  3456        block_10_expand_relu[0][0]       \n",
            "__________________________________________________________________________________________________\n",
            "block_10_depthwise_BN (BatchNor (None, 14, 14, 384)  1536        block_10_depthwise[0][0]         \n",
            "__________________________________________________________________________________________________\n",
            "block_10_depthwise_relu (ReLU)  (None, 14, 14, 384)  0           block_10_depthwise_BN[0][0]      \n",
            "__________________________________________________________________________________________________\n",
            "block_10_project (Conv2D)       (None, 14, 14, 96)   36864       block_10_depthwise_relu[0][0]    \n",
            "__________________________________________________________________________________________________\n",
            "block_10_project_BN (BatchNorma (None, 14, 14, 96)   384         block_10_project[0][0]           \n",
            "__________________________________________________________________________________________________\n",
            "block_11_expand (Conv2D)        (None, 14, 14, 576)  55296       block_10_project_BN[0][0]        \n",
            "__________________________________________________________________________________________________\n",
            "block_11_expand_BN (BatchNormal (None, 14, 14, 576)  2304        block_11_expand[0][0]            \n",
            "__________________________________________________________________________________________________\n",
            "block_11_expand_relu (ReLU)     (None, 14, 14, 576)  0           block_11_expand_BN[0][0]         \n",
            "__________________________________________________________________________________________________\n",
            "block_11_depthwise (DepthwiseCo (None, 14, 14, 576)  5184        block_11_expand_relu[0][0]       \n",
            "__________________________________________________________________________________________________\n",
            "block_11_depthwise_BN (BatchNor (None, 14, 14, 576)  2304        block_11_depthwise[0][0]         \n",
            "__________________________________________________________________________________________________\n",
            "block_11_depthwise_relu (ReLU)  (None, 14, 14, 576)  0           block_11_depthwise_BN[0][0]      \n",
            "__________________________________________________________________________________________________\n",
            "block_11_project (Conv2D)       (None, 14, 14, 96)   55296       block_11_depthwise_relu[0][0]    \n",
            "__________________________________________________________________________________________________\n",
            "block_11_project_BN (BatchNorma (None, 14, 14, 96)   384         block_11_project[0][0]           \n",
            "__________________________________________________________________________________________________\n",
            "block_11_add (Add)              (None, 14, 14, 96)   0           block_10_project_BN[0][0]        \n",
            "                                                                 block_11_project_BN[0][0]        \n",
            "__________________________________________________________________________________________________\n",
            "block_12_expand (Conv2D)        (None, 14, 14, 576)  55296       block_11_add[0][0]               \n",
            "__________________________________________________________________________________________________\n",
            "block_12_expand_BN (BatchNormal (None, 14, 14, 576)  2304        block_12_expand[0][0]            \n",
            "__________________________________________________________________________________________________\n",
            "block_12_expand_relu (ReLU)     (None, 14, 14, 576)  0           block_12_expand_BN[0][0]         \n",
            "__________________________________________________________________________________________________\n",
            "block_12_depthwise (DepthwiseCo (None, 14, 14, 576)  5184        block_12_expand_relu[0][0]       \n",
            "__________________________________________________________________________________________________\n",
            "block_12_depthwise_BN (BatchNor (None, 14, 14, 576)  2304        block_12_depthwise[0][0]         \n",
            "__________________________________________________________________________________________________\n",
            "block_12_depthwise_relu (ReLU)  (None, 14, 14, 576)  0           block_12_depthwise_BN[0][0]      \n",
            "__________________________________________________________________________________________________\n",
            "block_12_project (Conv2D)       (None, 14, 14, 96)   55296       block_12_depthwise_relu[0][0]    \n",
            "__________________________________________________________________________________________________\n",
            "block_12_project_BN (BatchNorma (None, 14, 14, 96)   384         block_12_project[0][0]           \n",
            "__________________________________________________________________________________________________\n",
            "block_12_add (Add)              (None, 14, 14, 96)   0           block_11_add[0][0]               \n",
            "                                                                 block_12_project_BN[0][0]        \n",
            "__________________________________________________________________________________________________\n",
            "block_13_expand (Conv2D)        (None, 14, 14, 576)  55296       block_12_add[0][0]               \n",
            "__________________________________________________________________________________________________\n",
            "block_13_expand_BN (BatchNormal (None, 14, 14, 576)  2304        block_13_expand[0][0]            \n",
            "__________________________________________________________________________________________________\n",
            "block_13_expand_relu (ReLU)     (None, 14, 14, 576)  0           block_13_expand_BN[0][0]         \n",
            "__________________________________________________________________________________________________\n",
            "block_13_pad (ZeroPadding2D)    (None, 15, 15, 576)  0           block_13_expand_relu[0][0]       \n",
            "__________________________________________________________________________________________________\n",
            "block_13_depthwise (DepthwiseCo (None, 7, 7, 576)    5184        block_13_pad[0][0]               \n",
            "__________________________________________________________________________________________________\n",
            "block_13_depthwise_BN (BatchNor (None, 7, 7, 576)    2304        block_13_depthwise[0][0]         \n",
            "__________________________________________________________________________________________________\n",
            "block_13_depthwise_relu (ReLU)  (None, 7, 7, 576)    0           block_13_depthwise_BN[0][0]      \n",
            "__________________________________________________________________________________________________\n",
            "block_13_project (Conv2D)       (None, 7, 7, 160)    92160       block_13_depthwise_relu[0][0]    \n",
            "__________________________________________________________________________________________________\n",
            "block_13_project_BN (BatchNorma (None, 7, 7, 160)    640         block_13_project[0][0]           \n",
            "__________________________________________________________________________________________________\n",
            "block_14_expand (Conv2D)        (None, 7, 7, 960)    153600      block_13_project_BN[0][0]        \n",
            "__________________________________________________________________________________________________\n",
            "block_14_expand_BN (BatchNormal (None, 7, 7, 960)    3840        block_14_expand[0][0]            \n",
            "__________________________________________________________________________________________________\n",
            "block_14_expand_relu (ReLU)     (None, 7, 7, 960)    0           block_14_expand_BN[0][0]         \n",
            "__________________________________________________________________________________________________\n",
            "block_14_depthwise (DepthwiseCo (None, 7, 7, 960)    8640        block_14_expand_relu[0][0]       \n",
            "__________________________________________________________________________________________________\n",
            "block_14_depthwise_BN (BatchNor (None, 7, 7, 960)    3840        block_14_depthwise[0][0]         \n",
            "__________________________________________________________________________________________________\n",
            "block_14_depthwise_relu (ReLU)  (None, 7, 7, 960)    0           block_14_depthwise_BN[0][0]      \n",
            "__________________________________________________________________________________________________\n",
            "block_14_project (Conv2D)       (None, 7, 7, 160)    153600      block_14_depthwise_relu[0][0]    \n",
            "__________________________________________________________________________________________________\n",
            "block_14_project_BN (BatchNorma (None, 7, 7, 160)    640         block_14_project[0][0]           \n",
            "__________________________________________________________________________________________________\n",
            "block_14_add (Add)              (None, 7, 7, 160)    0           block_13_project_BN[0][0]        \n",
            "                                                                 block_14_project_BN[0][0]        \n",
            "__________________________________________________________________________________________________\n",
            "block_15_expand (Conv2D)        (None, 7, 7, 960)    153600      block_14_add[0][0]               \n",
            "__________________________________________________________________________________________________\n",
            "block_15_expand_BN (BatchNormal (None, 7, 7, 960)    3840        block_15_expand[0][0]            \n",
            "__________________________________________________________________________________________________\n",
            "block_15_expand_relu (ReLU)     (None, 7, 7, 960)    0           block_15_expand_BN[0][0]         \n",
            "__________________________________________________________________________________________________\n",
            "block_15_depthwise (DepthwiseCo (None, 7, 7, 960)    8640        block_15_expand_relu[0][0]       \n",
            "__________________________________________________________________________________________________\n",
            "block_15_depthwise_BN (BatchNor (None, 7, 7, 960)    3840        block_15_depthwise[0][0]         \n",
            "__________________________________________________________________________________________________\n",
            "block_15_depthwise_relu (ReLU)  (None, 7, 7, 960)    0           block_15_depthwise_BN[0][0]      \n",
            "__________________________________________________________________________________________________\n",
            "block_15_project (Conv2D)       (None, 7, 7, 160)    153600      block_15_depthwise_relu[0][0]    \n",
            "__________________________________________________________________________________________________\n",
            "block_15_project_BN (BatchNorma (None, 7, 7, 160)    640         block_15_project[0][0]           \n",
            "__________________________________________________________________________________________________\n",
            "block_15_add (Add)              (None, 7, 7, 160)    0           block_14_add[0][0]               \n",
            "                                                                 block_15_project_BN[0][0]        \n",
            "__________________________________________________________________________________________________\n",
            "block_16_expand (Conv2D)        (None, 7, 7, 960)    153600      block_15_add[0][0]               \n",
            "__________________________________________________________________________________________________\n",
            "block_16_expand_BN (BatchNormal (None, 7, 7, 960)    3840        block_16_expand[0][0]            \n",
            "__________________________________________________________________________________________________\n",
            "block_16_expand_relu (ReLU)     (None, 7, 7, 960)    0           block_16_expand_BN[0][0]         \n",
            "__________________________________________________________________________________________________\n",
            "block_16_depthwise (DepthwiseCo (None, 7, 7, 960)    8640        block_16_expand_relu[0][0]       \n",
            "__________________________________________________________________________________________________\n",
            "block_16_depthwise_BN (BatchNor (None, 7, 7, 960)    3840        block_16_depthwise[0][0]         \n",
            "__________________________________________________________________________________________________\n",
            "block_16_depthwise_relu (ReLU)  (None, 7, 7, 960)    0           block_16_depthwise_BN[0][0]      \n",
            "__________________________________________________________________________________________________\n",
            "block_16_project (Conv2D)       (None, 7, 7, 320)    307200      block_16_depthwise_relu[0][0]    \n",
            "__________________________________________________________________________________________________\n",
            "block_16_project_BN (BatchNorma (None, 7, 7, 320)    1280        block_16_project[0][0]           \n",
            "__________________________________________________________________________________________________\n",
            "Conv_1 (Conv2D)                 (None, 7, 7, 1280)   409600      block_16_project_BN[0][0]        \n",
            "__________________________________________________________________________________________________\n",
            "Conv_1_bn (BatchNormalization)  (None, 7, 7, 1280)   5120        Conv_1[0][0]                     \n",
            "__________________________________________________________________________________________________\n",
            "out_relu (ReLU)                 (None, 7, 7, 1280)   0           Conv_1_bn[0][0]                  \n",
            "__________________________________________________________________________________________________\n",
            "global_max_pooling2d (GlobalMax (None, 1280)         0           out_relu[0][0]                   \n",
            "__________________________________________________________________________________________________\n",
            "flatten (Flatten)               (None, 1280)         0           global_max_pooling2d[0][0]       \n",
            "==================================================================================================\n",
            "Total params: 2,257,984\n",
            "Trainable params: 2,223,872\n",
            "Non-trainable params: 34,112\n",
            "__________________________________________________________________________________________________\n"
          ]
        }
      ],
      "metadata": {
        "colab": {
          "base_uri": "https://localhost:8080/"
        },
        "id": "FBiOpQsNAKjN",
        "outputId": "49fe821d-83ed-4e78-978f-8350b39cac14"
      }
    },
    {
      "cell_type": "code",
      "execution_count": null,
      "source": [
        "from tensorflow.keras.applications import MobileNetV2\r\n",
        "from tensorflow.keras.models import Sequential\r\n",
        "from tensorflow.keras.layers import Dense, Flatten, GlobalAveragePooling2D, Dropout\r\n",
        "\r\n",
        "num_classes = 3\r\n",
        "\r\n",
        "model = Sequential()\r\n",
        "model.add(mobilenet_v2)\r\n",
        "model.add(Dense(1024, activation='relu'))\r\n",
        "model.add(Dropout(0.5))\r\n",
        "model.add(Dense(1024, activation='relu'))\r\n",
        "model.add(Dropout(0.5))\r\n",
        "model.add(Dense(num_classes, activation='softmax'))\r\n",
        "\r\n",
        "model.summary()"
      ],
      "outputs": [
        {
          "output_type": "stream",
          "name": "stdout",
          "text": [
            "Model: \"sequential\"\n",
            "_________________________________________________________________\n",
            "Layer (type)                 Output Shape              Param #   \n",
            "=================================================================\n",
            "model (Functional)           (None, 1280)              2257984   \n",
            "_________________________________________________________________\n",
            "dense (Dense)                (None, 1024)              1311744   \n",
            "_________________________________________________________________\n",
            "dropout (Dropout)            (None, 1024)              0         \n",
            "_________________________________________________________________\n",
            "dense_1 (Dense)              (None, 1024)              1049600   \n",
            "_________________________________________________________________\n",
            "dropout_1 (Dropout)          (None, 1024)              0         \n",
            "_________________________________________________________________\n",
            "dense_2 (Dense)              (None, 3)                 3075      \n",
            "=================================================================\n",
            "Total params: 4,622,403\n",
            "Trainable params: 4,588,291\n",
            "Non-trainable params: 34,112\n",
            "_________________________________________________________________\n"
          ]
        }
      ],
      "metadata": {
        "colab": {
          "base_uri": "https://localhost:8080/"
        },
        "id": "JpJYdZyRAKjN",
        "outputId": "02cfaebe-78d1-41b2-e357-a5a58716483b"
      }
    },
    {
      "cell_type": "code",
      "execution_count": null,
      "source": [
        "adam = tf.keras.optimizers.Adam(learning_rate=0.0001)\r\n",
        "\r\n",
        "early_stop = tf.keras.callbacks.EarlyStopping(monitor='val_loss', patience=8,\r\n",
        "                                              restore_best_weights=False\r\n",
        "                                              )\r\n",
        "\r\n",
        "reduce_lr = tf.keras.callbacks.ReduceLROnPlateau(monitor='val_loss',\r\n",
        "                                   factor=0.2,\r\n",
        "                                   patience=4,\r\n",
        "                                   verbose=1,\r\n",
        "                                   min_delta=5*1e-3,min_lr = 5*1e-7,\r\n",
        "                                   )"
      ],
      "outputs": [],
      "metadata": {
        "id": "szKBml9AAKjO"
      }
    },
    {
      "cell_type": "code",
      "execution_count": null,
      "source": [
        "model.compile(optimizer = adam, loss = 'categorical_crossentropy', metrics=['accuracy', tfa.metrics.F1Score(num_classes=num_classes)])"
      ],
      "outputs": [],
      "metadata": {
        "id": "ioodM-M9AKjO"
      }
    },
    {
      "cell_type": "code",
      "execution_count": null,
      "source": [
        "model.fit(\r\n",
        "          train_generator,     \r\n",
        "          epochs = 12,\r\n",
        "          callbacks=[early_stop,reduce_lr],\r\n",
        "          validation_data = validation_generator\r\n",
        "          )"
      ],
      "outputs": [
        {
          "output_type": "stream",
          "name": "stdout",
          "text": [
            "Epoch 1/12\n",
            "643/643 [==============================] - ETA: 0s - loss: 0.9309 - accuracy: 0.8002 - f1_score: 0.7227"
          ]
        },
        {
          "output_type": "stream",
          "name": "stderr",
          "text": [
            "/usr/local/lib/python3.7/dist-packages/tensorflow/python/keras/metrics.py:257: UserWarning: Metric F1Score implements a `reset_states()` method; rename it to `reset_state()` (without the final \"s\"). The name `reset_states()` has been deprecated to improve API consistency.\n",
            "  'consistency.' % (self.__class__.__name__,))\n"
          ]
        },
        {
          "output_type": "stream",
          "name": "stdout",
          "text": [
            "\b\b\b\b\b\b\b\b\b\b\b\b\b\b\b\b\b\b\b\b\b\b\b\b\b\b\b\b\b\b\b\b\b\b\b\b\b\b\b\b\b\b\b\b\b\b\b\b\b\b\b\b\b\b\b\b\b\b\b\b\b\b\b\b\b\b\b\b\b\b\b\b\b\b\b\b\b\b\b\b\b\b\b\b\b\b\b\b\b\b\b\b\b\b\b\b\b\b\b\b\b\b\b\r643/643 [==============================] - 1734s 3s/step - loss: 0.9309 - accuracy: 0.8002 - f1_score: 0.7227 - val_loss: 1.3113 - val_accuracy: 0.6855 - val_f1_score: 0.3946\n",
            "Epoch 2/12\n",
            "643/643 [==============================] - 202s 314ms/step - loss: 0.3439 - accuracy: 0.8964 - f1_score: 0.8697 - val_loss: 0.4740 - val_accuracy: 0.8258 - val_f1_score: 0.7689\n",
            "Epoch 3/12\n",
            "643/643 [==============================] - 201s 313ms/step - loss: 0.2457 - accuracy: 0.9185 - f1_score: 0.9026 - val_loss: 0.8819 - val_accuracy: 0.7532 - val_f1_score: 0.6400\n",
            "Epoch 4/12\n",
            "643/643 [==============================] - 202s 314ms/step - loss: 0.2041 - accuracy: 0.9327 - f1_score: 0.9192 - val_loss: 0.7889 - val_accuracy: 0.7758 - val_f1_score: 0.6851\n",
            "Epoch 5/12\n",
            "643/643 [==============================] - 200s 311ms/step - loss: 0.1851 - accuracy: 0.9413 - f1_score: 0.9274 - val_loss: 0.2030 - val_accuracy: 0.9323 - val_f1_score: 0.9169\n",
            "Epoch 6/12\n",
            "643/643 [==============================] - 199s 309ms/step - loss: 0.1613 - accuracy: 0.9473 - f1_score: 0.9395 - val_loss: 0.1354 - val_accuracy: 0.9500 - val_f1_score: 0.9505\n",
            "Epoch 7/12\n",
            "643/643 [==============================] - 202s 314ms/step - loss: 0.1493 - accuracy: 0.9537 - f1_score: 0.9438 - val_loss: 0.1440 - val_accuracy: 0.9290 - val_f1_score: 0.9287\n",
            "Epoch 8/12\n",
            "643/643 [==============================] - 198s 308ms/step - loss: 0.1392 - accuracy: 0.9588 - f1_score: 0.9497 - val_loss: 0.1029 - val_accuracy: 0.9661 - val_f1_score: 0.9642\n",
            "Epoch 9/12\n",
            "643/643 [==============================] - 198s 308ms/step - loss: 0.1376 - accuracy: 0.9572 - f1_score: 0.9472 - val_loss: 0.1560 - val_accuracy: 0.9500 - val_f1_score: 0.9249\n",
            "Epoch 10/12\n",
            "643/643 [==============================] - 200s 310ms/step - loss: 0.1223 - accuracy: 0.9623 - f1_score: 0.9577 - val_loss: 0.1819 - val_accuracy: 0.9532 - val_f1_score: 0.9372\n",
            "Epoch 11/12\n",
            "643/643 [==============================] - 198s 308ms/step - loss: 0.1115 - accuracy: 0.9664 - f1_score: 0.9612 - val_loss: 0.2700 - val_accuracy: 0.9355 - val_f1_score: 0.9390\n",
            "Epoch 12/12\n",
            "643/643 [==============================] - 201s 312ms/step - loss: 0.0934 - accuracy: 0.9712 - f1_score: 0.9677 - val_loss: 0.2122 - val_accuracy: 0.9435 - val_f1_score: 0.9387\n",
            "\n",
            "Epoch 00012: ReduceLROnPlateau reducing learning rate to 1.9999999494757503e-05.\n"
          ]
        },
        {
          "output_type": "execute_result",
          "data": {
            "text/plain": [
              "<tensorflow.python.keras.callbacks.History at 0x7fa6674441d0>"
            ]
          },
          "metadata": {
            "tags": []
          },
          "execution_count": 19
        }
      ],
      "metadata": {
        "colab": {
          "base_uri": "https://localhost:8080/"
        },
        "id": "bCIUnN0yAKjP",
        "outputId": "c7bf551d-6b23-4d12-8162-a1c9a025f5ce"
      }
    },
    {
      "cell_type": "code",
      "execution_count": null,
      "source": [
        "def get_diagnostic_plot(model,name):\r\n",
        "    training_loss = model.history.history[name]\r\n",
        "    test_loss = model.history.history[f'val_{name}']\r\n",
        "\r\n",
        "    epoch_count = range(1, len(training_loss) + 1)\r\n",
        "\r\n",
        "    plt.plot(epoch_count, training_loss, 'r--')\r\n",
        "    plt.plot(epoch_count, test_loss, 'b-')\r\n",
        "    plt.legend([f'Training {name}', f'Val {name}'])\r\n",
        "    plt.xlabel('Epoch')\r\n",
        "    plt.ylabel(name)"
      ],
      "outputs": [],
      "metadata": {
        "id": "dClt_s-xAKjP"
      }
    },
    {
      "cell_type": "code",
      "execution_count": null,
      "source": [
        "get_diagnostic_plot(model,'loss')"
      ],
      "outputs": [
        {
          "output_type": "display_data",
          "data": {
            "text/plain": [
              "<Figure size 432x288 with 1 Axes>"
            ],
            "image/png": "[encoded data removed]"
          },
          "metadata": {
            "tags": [],
            "needs_background": "light"
          }
        }
      ],
      "metadata": {
        "id": "PaodrenlAKjP",
        "colab": {
          "base_uri": "https://localhost:8080/",
          "height": 279
        },
        "outputId": "0d3be584-0d2c-4be7-fd03-36926d82d1c0"
      }
    },
    {
      "cell_type": "code",
      "execution_count": null,
      "source": [
        "save_path = 'mobilenetv2/'\r\n",
        "tf.keras.models.save_model(model,save_path)"
      ],
      "outputs": [
        {
          "output_type": "stream",
          "name": "stderr",
          "text": [
            "/usr/local/lib/python3.7/dist-packages/tensorflow/python/keras/utils/generic_utils.py:497: CustomMaskWarning: Custom mask layers require a config and must override get_config. When loading, the custom mask layer must be passed to the custom_objects argument.\n",
            "  category=CustomMaskWarning)\n"
          ]
        },
        {
          "output_type": "stream",
          "name": "stdout",
          "text": [
            "INFO:tensorflow:Assets written to: mobilenetv2/assets\n"
          ]
        }
      ],
      "metadata": {
        "id": "T9YWwyTRAKjQ",
        "colab": {
          "base_uri": "https://localhost:8080/"
        },
        "outputId": "ec372aec-53e0-4b78-81ce-3f75594e0a55"
      }
    },
    {
      "cell_type": "code",
      "execution_count": null,
      "source": [
        "f1_score_history = model.history.history['f1_score']\r\n",
        "f1_scores = [np.mean(item) for item in  f1_score_history]\r\n",
        "f1_score_val_hist = model.history.history['val_f1_score']\r\n",
        "f1_scores_val = [np.mean(item) for item in  f1_score_val_hist]"
      ],
      "outputs": [],
      "metadata": {
        "id": "5235CtmGAKjQ"
      }
    },
    {
      "cell_type": "code",
      "execution_count": null,
      "source": [
        "training_loss = f1_scores\r\n",
        "test_loss = f1_scores_val\r\n",
        "\r\n",
        "epoch_count = range(1, len(training_loss) + 1)\r\n",
        "\r\n",
        "plt.plot(epoch_count, training_loss, 'r--')\r\n",
        "plt.plot(epoch_count, test_loss, 'b-')\r\n",
        "plt.legend(['Training F1 score', 'Val F1 score'])\r\n",
        "plt.xlabel('Epoch')\r\n",
        "plt.ylabel('F1 Score')"
      ],
      "outputs": [
        {
          "output_type": "execute_result",
          "data": {
            "text/plain": [
              "Text(0, 0.5, 'F1 Score')"
            ]
          },
          "metadata": {
            "tags": []
          },
          "execution_count": 24
        },
        {
          "output_type": "display_data",
          "data": {
            "text/plain": [
              "<Figure size 432x288 with 1 Axes>"
            ],
            "image/png": "[encoded data removed]"
          },
          "metadata": {
            "tags": [],
            "needs_background": "light"
          }
        }
      ],
      "metadata": {
        "id": "Q2YGRKKnAKjQ",
        "colab": {
          "base_uri": "https://localhost:8080/",
          "height": 296
        },
        "outputId": "8d24b55f-502f-4092-dd9f-eb761ec5c1da"
      }
    },
    {
      "cell_type": "code",
      "execution_count": null,
      "source": [
        "model.evaluate(test_generator)"
      ],
      "outputs": [
        {
          "output_type": "stream",
          "name": "stdout",
          "text": [
            "\r 1/84 [..............................] - ETA: 16s - loss: 0.1320 - accuracy: 0.8750 - f1_score: 0.8963"
          ]
        },
        {
          "output_type": "stream",
          "name": "stderr",
          "text": [
            "/usr/local/lib/python3.7/dist-packages/tensorflow/python/keras/metrics.py:257: UserWarning: Metric F1Score implements a `reset_states()` method; rename it to `reset_state()` (without the final \"s\"). The name `reset_states()` has been deprecated to improve API consistency.\n",
            "  'consistency.' % (self.__class__.__name__,))\n"
          ]
        },
        {
          "output_type": "stream",
          "name": "stdout",
          "text": [
            "84/84 [==============================] - 188s 2s/step - loss: 0.1457 - accuracy: 0.9656 - f1_score: 0.9444\n"
          ]
        },
        {
          "output_type": "execute_result",
          "data": {
            "text/plain": [
              "[0.14572712779045105,\n",
              " 0.9655688405036926,\n",
              " array([0.91588783, 0.9341317 , 0.9832402 ], dtype=float32)]"
            ]
          },
          "metadata": {
            "tags": []
          },
          "execution_count": 25
        }
      ],
      "metadata": {
        "colab": {
          "base_uri": "https://localhost:8080/"
        },
        "id": "Dv3BQ85m70sX",
        "outputId": "0636b0b5-ce88-4f3f-b16c-92610f83cc60"
      }
    },
    {
      "cell_type": "code",
      "execution_count": 6,
      "source": [
        "import seaborn as sns\r\n",
        "\r\n",
        "f1_scores = np.array([0.91588783, 0.9341317 , 0.9832402 ])\r\n",
        "\r\n",
        "tp = f1_scores[0] * TEST_POSITIVE_SIZE\r\n",
        "tn = ((f1_scores[1] + f1_scores[2])/2) * TEST_NEGATIVE_SIZE\r\n",
        "fp = (1-f1_scores[0]) * TEST_NEGATIVE_SIZE\r\n",
        "fn = (((1-f1_scores[1]) + (1-f1_scores[2]))/2) * TEST_POSITIVE_SIZE\r\n",
        "\r\n",
        "cf_matrix = np.array([[tn / TEST_NEGATIVE_SIZE * 100, fp / TEST_NEGATIVE_SIZE * 100],\r\n",
        "                      [fn / TEST_POSITIVE_SIZE * 100, tp / TEST_POSITIVE_SIZE * 100]\r\n",
        "                    ])\r\n",
        "\r\n",
        "group_names = ['True Negative','False Positive','False Negative','True Positive']\r\n",
        "percentages = [tn / TEST_NEGATIVE_SIZE, fp / TEST_NEGATIVE_SIZE, fn / TEST_POSITIVE_SIZE, tp / TEST_POSITIVE_SIZE]\r\n",
        "group_percentages = [\"{0:.3%}\".format(value) for value in percentages]\r\n",
        "labels = [f\"{v1}\\n{v2}\" for v1, v2 in\r\n",
        "          zip(group_names,group_percentages)]\r\n",
        "labels = np.asarray(labels).reshape(2,2)\r\n",
        "sns.heatmap(cf_matrix, vmin = 0, vmax = 100, annot=labels, fmt='', cmap='BuPu')"
      ],
      "outputs": [
        {
          "output_type": "execute_result",
          "data": {
            "text/plain": [
              "<matplotlib.axes._subplots.AxesSubplot at 0x7fde9931d910>"
            ]
          },
          "metadata": {
            "tags": []
          },
          "execution_count": 6
        },
        {
          "output_type": "display_data",
          "data": {
            "text/plain": [
              "<Figure size 432x288 with 2 Axes>"
            ],
            "image/png": "[encoded data removed]"
          },
          "metadata": {
            "tags": [],
            "needs_background": "light"
          }
        }
      ],
      "metadata": {
        "colab": {
          "base_uri": "https://localhost:8080/",
          "height": 286
        },
        "id": "xBje0Hx_pk-u",
        "outputId": "6c3a393e-8b14-435c-8573-1823724c369b"
      }
    },
    {
      "cell_type": "code",
      "execution_count": 7,
      "source": [
        "sensitivity = tp / (tp + fn)\n",
        "specificity = tn / (tn + fp)\n",
        "\n",
        "print(f'Sensitivity: {sensitivity}')\n",
        "print(f'Specificity: {specificity}')"
      ],
      "outputs": [
        {
          "output_type": "stream",
          "name": "stdout",
          "text": [
            "Sensitivity: 0.9568387287329607\n",
            "Specificity: 0.9193399293815374\n"
          ]
        }
      ],
      "metadata": {
        "colab": {
          "base_uri": "https://localhost:8080/"
        },
        "id": "ECWo3l595ra2",
        "outputId": "67cec756-b494-4b71-81f6-a222e2ad2348"
      }
    }
  ]
}