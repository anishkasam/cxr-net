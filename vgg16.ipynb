{
 "cells": [
  {
   "cell_type": "code",
   "execution_count": null,
   "source": [
    "from keras.applications.vgg16 import VGG16\r\n",
    "import keras\r\n",
    "import tensorflow as tf \r\n",
    "import requests\r\n",
    "import ssl\r\n",
    "\r\n",
    "requests.packages.urllib3.disable_warnings()\r\n",
    "try:\r\n",
    "    _create_unverified_https_context = ssl._create_unverified_context\r\n",
    "except AttributeError:\r\n",
    "    # Legacy Python that doesn't verify HTTPS certificates by default\r\n",
    "    pass\r\n",
    "else:\r\n",
    "    # Handle target environment that doesn't support HTTPS verification\r\n",
    "    ssl._create_default_https_context = _create_unverified_https_context\r\n",
    "model = VGG16(include_top=True, weights='imagenet', input_tensor=None, input_shape=None, pooling=None, classes=1000, classifier_activation='softmax')"
   ],
   "outputs": [],
   "metadata": {}
  }
 ],
 "metadata": {
  "orig_nbformat": 4,
  "language_info": {
   "name": "python"
  }
 },
 "nbformat": 4,
 "nbformat_minor": 2
}