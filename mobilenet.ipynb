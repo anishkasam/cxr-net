{
 "cells": [
  {
   "cell_type": "code",
   "execution_count": 1,
   "source": [
    "import tensorflow as tf\r\n",
    "import keras,os\r\n",
    "from keras.models import Sequential\r\n",
    "from keras.layers import Dense, Conv2D, MaxPool2D , Flatten\r\n",
    "from keras.preprocessing.image import ImageDataGenerator\r\n",
    "import numpy as np\r\n",
    "from tensorflow.keras.applications.mobilenet_v2 import MobileNetV2\r\n",
    "from tensorflow.keras.layers import Input\r\n",
    "from tensorflow.keras.preprocessing import image\r\n",
    "from tensorflow.keras.applications.mobilenet_v2 import preprocess_input, decode_predictions\r\n",
    "\r\n",
    "tf.keras.applications.mobilenet_v2.MobileNetV2(\r\n",
    "    input_shape=None, alpha=1.0, include_top=True, weights='imagenet',\r\n",
    "    input_tensor=None, pooling=None, classes=3,\r\n",
    "    classifier_activation='softmax', **kwargs\r\n",
    ")"
   ],
   "outputs": [
    {
     "output_type": "stream",
     "name": "stdout",
     "text": [
      "hello\n"
     ]
    }
   ],
   "metadata": {}
  }
 ],
 "metadata": {
  "orig_nbformat": 4,
  "language_info": {
   "name": "python"
  }
 },
 "nbformat": 4,
 "nbformat_minor": 2
}