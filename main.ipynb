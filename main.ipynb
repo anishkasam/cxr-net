{
 "cells": [
  {
   "cell_type": "markdown",
   "source": [],
   "metadata": {}
  },
  {
   "cell_type": "code",
   "execution_count": 22,
   "source": [
    "import keras,os\r\n",
    "from keras.models import Sequential\r\n",
    "from keras.layers import Dense, Conv2D, MaxPool2D , Flatten\r\n",
    "from keras.preprocessing.image import ImageDataGenerator\r\n",
    "import numpy as np\r\n",
    "import tensorflow as tf\r\n",
    "from tensorflow.keras.optimizers import Adam\r\n",
    "\r\n",
    "trdata = ImageDataGenerator()\r\n",
    "traindata = trdata.flow_from_directory(directory=\"train\",target_size=(1024,1024))\r\n",
    "tsdata = ImageDataGenerator()\r\n",
    "testdata = tsdata.flow_from_directory(directory=\"test\", target_size=(1024, 1024))\r\n",
    "\r\n",
    "model = Sequential()\r\n",
    "model.add(Conv2D(input_shape=(1024,1024,8),filters=64,kernel_size=(3,3),padding=\"same\", activation=\"relu\"))\r\n",
    "model.add(Conv2D(filters=64,kernel_size=(3,3),padding=\"same\", activation=\"relu\"))\r\n",
    "model.add(MaxPool2D(pool_size=(2,2),strides=(2,2)))\r\n",
    "model.add(Conv2D(filters=128, kernel_size=(3,3), padding=\"same\", activation=\"relu\"))\r\n",
    "model.add(Conv2D(filters=128, kernel_size=(3,3), padding=\"same\", activation=\"relu\"))\r\n",
    "model.add(MaxPool2D(pool_size=(2,2),strides=(2,2)))\r\n",
    "model.add(Conv2D(filters=256, kernel_size=(3,3), padding=\"same\", activation=\"relu\"))\r\n",
    "model.add(Conv2D(filters=256, kernel_size=(3,3), padding=\"same\", activation=\"relu\"))\r\n",
    "model.add(Conv2D(filters=256, kernel_size=(3,3), padding=\"same\", activation=\"relu\"))\r\n",
    "model.add(MaxPool2D(pool_size=(2,2),strides=(2,2)))\r\n",
    "model.add(Conv2D(filters=512, kernel_size=(3,3), padding=\"same\", activation=\"relu\"))\r\n",
    "model.add(Conv2D(filters=512, kernel_size=(3,3), padding=\"same\", activation=\"relu\"))\r\n",
    "model.add(Conv2D(filters=512, kernel_size=(3,3), padding=\"same\", activation=\"relu\"))\r\n",
    "model.add(MaxPool2D(pool_size=(2,2),strides=(2,2)))\r\n",
    "model.add(Conv2D(filters=512, kernel_size=(3,3), padding=\"same\", activation=\"relu\"))\r\n",
    "model.add(Conv2D(filters=512, kernel_size=(3,3), padding=\"same\", activation=\"relu\"))\r\n",
    "model.add(Conv2D(filters=512, kernel_size=(3,3), padding=\"same\", activation=\"relu\"))\r\n",
    "model.add(MaxPool2D(pool_size=(2,2),strides=(2,2)))\r\n",
    "model.add(Flatten())\r\n",
    "model.add(Dense(units=4096,activation=\"relu\"))\r\n",
    "model.add(Dense(units=4096,activation=\"relu\"))\r\n",
    "model.add(Dense(units=2, activation=\"sigmoid\"))\r\n",
    "\r\n",
    "opt = Adam(learning_rate=0.001)\r\n",
    "model.compile(optimizer=opt, loss=keras.losses.categorical_crossentropy, metrics=['accuracy'])\r\n",
    "model.summary()"
   ],
   "outputs": [
    {
     "output_type": "stream",
     "name": "stdout",
     "text": [
      "test\n"
     ]
    }
   ],
   "metadata": {}
  }
 ],
 "metadata": {
  "interpreter": {
   "hash": "046c11933fb5bb0126505b6c72f592b7f417171ca7a307c63d5d1a9e4dac2b2d"
  },
  "kernelspec": {
   "display_name": "Python 3.8.8 64-bit ('myenv': conda)",
   "name": "python3"
  },
  "language_info": {
   "codemirror_mode": {
    "name": "ipython",
    "version": 3
   },
   "file_extension": ".py",
   "mimetype": "text/x-python",
   "name": "python",
   "nbconvert_exporter": "python",
   "pygments_lexer": "ipython3",
   "version": "3.8.8"
  },
  "orig_nbformat": 4
 },
 "nbformat": 4,
 "nbformat_minor": 2
}